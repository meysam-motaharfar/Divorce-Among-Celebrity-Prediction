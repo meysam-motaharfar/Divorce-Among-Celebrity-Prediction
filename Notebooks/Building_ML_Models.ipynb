{
 "cells": [
  {
   "cell_type": "markdown",
   "id": "1c60c241",
   "metadata": {},
   "source": [
    "# 4) Building ML Models"
   ]
  },
  {
   "cell_type": "markdown",
   "id": "7d24d3b7",
   "metadata": {},
   "source": [
    "Importing required libraries:"
   ]
  },
  {
   "cell_type": "code",
   "execution_count": 591,
   "id": "c15a9199",
   "metadata": {},
   "outputs": [],
   "source": [
    "import pandas as pd\n",
    "import numpy as np\n",
    "import matplotlib.pyplot as plt\n",
    "from sklearn.impute import KNNImputer\n",
    "from sklearn.model_selection import train_test_split, KFold, GridSearchCV\n",
    "from sklearn.metrics import accuracy_score, confusion_matrix, classification_report\n",
    "from sklearn.linear_model import LogisticRegression\n",
    "from sklearn.neighbors import KNeighborsClassifier\n",
    "from sklearn.svm import SVC\n",
    "from sklearn.tree import DecisionTreeClassifier\n",
    "from sklearn.ensemble import RandomForestClassifier\n",
    "from sklearn.model_selection import RandomizedSearchCV\n",
    "from xgboost import XGBClassifier\n",
    "from sklearn.preprocessing import StandardScaler\n",
    "import seaborn as sns\n",
    "from scipy import stats\n",
    "import time\n",
    "pd.set_option('display.max_columns', None)"
   ]
  },
  {
   "cell_type": "markdown",
   "id": "00b9d6cb",
   "metadata": {},
   "source": [
    "Loading data set:"
   ]
  },
  {
   "cell_type": "code",
   "execution_count": 592,
   "id": "8b4ef52c",
   "metadata": {},
   "outputs": [
    {
     "data": {
      "text/html": [
       "<div>\n",
       "<style scoped>\n",
       "    .dataframe tbody tr th:only-of-type {\n",
       "        vertical-align: middle;\n",
       "    }\n",
       "\n",
       "    .dataframe tbody tr th {\n",
       "        vertical-align: top;\n",
       "    }\n",
       "\n",
       "    .dataframe thead th {\n",
       "        text-align: right;\n",
       "    }\n",
       "</style>\n",
       "<table border=\"1\" class=\"dataframe\">\n",
       "  <thead>\n",
       "    <tr style=\"text-align: right;\">\n",
       "      <th></th>\n",
       "      <th>Number_of_Marriage</th>\n",
       "      <th>Number_of_Divorce</th>\n",
       "      <th>Number_of_Children</th>\n",
       "      <th>Marriages_End_in_Death</th>\n",
       "      <th>Number_of_Marriage_Spouse</th>\n",
       "      <th>Number_of_Divorce_Spouse</th>\n",
       "      <th>Number_of_Children_Spouse</th>\n",
       "      <th>First_Marriage</th>\n",
       "      <th>Age</th>\n",
       "      <th>Age_at_Marriage</th>\n",
       "      <th>Age_at_Divorce</th>\n",
       "      <th>Age_of_Spouse</th>\n",
       "      <th>Age_at_Marriage_Spouse</th>\n",
       "      <th>Age_at_Divorce_Spouse</th>\n",
       "      <th>Duration_of_Marriage</th>\n",
       "      <th>Age_Difference</th>\n",
       "      <th>Number_of_Roles</th>\n",
       "      <th>Spouse_is_Celebrity</th>\n",
       "      <th>Married</th>\n",
       "      <th>Divorced</th>\n",
       "      <th>Alive_or_Dead</th>\n",
       "      <th>Alive_or_Dead_Spouse</th>\n",
       "      <th>Latitude</th>\n",
       "      <th>Longitude</th>\n",
       "      <th>Latitude_Spouse</th>\n",
       "      <th>Longitude_Spouse</th>\n",
       "      <th>Distance</th>\n",
       "    </tr>\n",
       "  </thead>\n",
       "  <tbody>\n",
       "    <tr>\n",
       "      <th>count</th>\n",
       "      <td>16770.000000</td>\n",
       "      <td>16770.000000</td>\n",
       "      <td>11011.000000</td>\n",
       "      <td>16770.000000</td>\n",
       "      <td>5042.000000</td>\n",
       "      <td>4600.000000</td>\n",
       "      <td>3375.000000</td>\n",
       "      <td>16770.000000</td>\n",
       "      <td>15707.000000</td>\n",
       "      <td>15558.000000</td>\n",
       "      <td>6559.000000</td>\n",
       "      <td>4891.000000</td>\n",
       "      <td>4867.000000</td>\n",
       "      <td>2250.000000</td>\n",
       "      <td>15534.000000</td>\n",
       "      <td>4583.000000</td>\n",
       "      <td>16770.000000</td>\n",
       "      <td>16770.000000</td>\n",
       "      <td>16770.0</td>\n",
       "      <td>16770.000000</td>\n",
       "      <td>16770.000000</td>\n",
       "      <td>16770.000000</td>\n",
       "      <td>15982.000000</td>\n",
       "      <td>15982.000000</td>\n",
       "      <td>4940.000000</td>\n",
       "      <td>4940.000000</td>\n",
       "      <td>4712.000000</td>\n",
       "    </tr>\n",
       "    <tr>\n",
       "      <th>mean</th>\n",
       "      <td>1.393679</td>\n",
       "      <td>0.632021</td>\n",
       "      <td>2.100627</td>\n",
       "      <td>0.144603</td>\n",
       "      <td>1.531932</td>\n",
       "      <td>0.853696</td>\n",
       "      <td>2.165926</td>\n",
       "      <td>0.194335</td>\n",
       "      <td>61.260966</td>\n",
       "      <td>29.953979</td>\n",
       "      <td>36.020582</td>\n",
       "      <td>61.542425</td>\n",
       "      <td>31.938566</td>\n",
       "      <td>38.336889</td>\n",
       "      <td>15.965817</td>\n",
       "      <td>6.394501</td>\n",
       "      <td>1.282349</td>\n",
       "      <td>0.127490</td>\n",
       "      <td>1.0</td>\n",
       "      <td>0.449672</td>\n",
       "      <td>0.333810</td>\n",
       "      <td>0.110972</td>\n",
       "      <td>33.258800</td>\n",
       "      <td>-22.009506</td>\n",
       "      <td>34.914601</td>\n",
       "      <td>-21.800480</td>\n",
       "      <td>2421.493675</td>\n",
       "    </tr>\n",
       "    <tr>\n",
       "      <th>std</th>\n",
       "      <td>0.728885</td>\n",
       "      <td>0.847140</td>\n",
       "      <td>1.135926</td>\n",
       "      <td>0.373102</td>\n",
       "      <td>0.875889</td>\n",
       "      <td>0.993624</td>\n",
       "      <td>1.183652</td>\n",
       "      <td>0.395700</td>\n",
       "      <td>18.328016</td>\n",
       "      <td>7.801117</td>\n",
       "      <td>9.634208</td>\n",
       "      <td>17.509857</td>\n",
       "      <td>8.279273</td>\n",
       "      <td>9.441840</td>\n",
       "      <td>14.801811</td>\n",
       "      <td>5.812522</td>\n",
       "      <td>0.605109</td>\n",
       "      <td>0.333531</td>\n",
       "      <td>0.0</td>\n",
       "      <td>0.497475</td>\n",
       "      <td>0.471587</td>\n",
       "      <td>0.314107</td>\n",
       "      <td>19.272817</td>\n",
       "      <td>82.194297</td>\n",
       "      <td>18.060025</td>\n",
       "      <td>81.662802</td>\n",
       "      <td>3354.893096</td>\n",
       "    </tr>\n",
       "    <tr>\n",
       "      <th>min</th>\n",
       "      <td>1.000000</td>\n",
       "      <td>0.000000</td>\n",
       "      <td>1.000000</td>\n",
       "      <td>0.000000</td>\n",
       "      <td>1.000000</td>\n",
       "      <td>0.000000</td>\n",
       "      <td>1.000000</td>\n",
       "      <td>0.000000</td>\n",
       "      <td>18.000000</td>\n",
       "      <td>15.000000</td>\n",
       "      <td>16.000000</td>\n",
       "      <td>21.000000</td>\n",
       "      <td>16.000000</td>\n",
       "      <td>18.000000</td>\n",
       "      <td>1.000000</td>\n",
       "      <td>0.000000</td>\n",
       "      <td>1.000000</td>\n",
       "      <td>0.000000</td>\n",
       "      <td>1.0</td>\n",
       "      <td>0.000000</td>\n",
       "      <td>0.000000</td>\n",
       "      <td>0.000000</td>\n",
       "      <td>-46.417871</td>\n",
       "      <td>-171.751355</td>\n",
       "      <td>-53.163384</td>\n",
       "      <td>-157.858140</td>\n",
       "      <td>0.000000</td>\n",
       "    </tr>\n",
       "    <tr>\n",
       "      <th>25%</th>\n",
       "      <td>1.000000</td>\n",
       "      <td>0.000000</td>\n",
       "      <td>1.000000</td>\n",
       "      <td>0.000000</td>\n",
       "      <td>1.000000</td>\n",
       "      <td>0.000000</td>\n",
       "      <td>1.000000</td>\n",
       "      <td>0.000000</td>\n",
       "      <td>46.000000</td>\n",
       "      <td>24.000000</td>\n",
       "      <td>29.000000</td>\n",
       "      <td>47.000000</td>\n",
       "      <td>26.000000</td>\n",
       "      <td>32.000000</td>\n",
       "      <td>5.000000</td>\n",
       "      <td>2.000000</td>\n",
       "      <td>1.000000</td>\n",
       "      <td>0.000000</td>\n",
       "      <td>1.0</td>\n",
       "      <td>0.000000</td>\n",
       "      <td>0.000000</td>\n",
       "      <td>0.000000</td>\n",
       "      <td>31.230416</td>\n",
       "      <td>-86.251990</td>\n",
       "      <td>32.776664</td>\n",
       "      <td>-85.548898</td>\n",
       "      <td>272.552629</td>\n",
       "    </tr>\n",
       "    <tr>\n",
       "      <th>50%</th>\n",
       "      <td>1.000000</td>\n",
       "      <td>0.000000</td>\n",
       "      <td>2.000000</td>\n",
       "      <td>0.000000</td>\n",
       "      <td>1.000000</td>\n",
       "      <td>1.000000</td>\n",
       "      <td>2.000000</td>\n",
       "      <td>0.000000</td>\n",
       "      <td>60.000000</td>\n",
       "      <td>29.000000</td>\n",
       "      <td>34.000000</td>\n",
       "      <td>60.000000</td>\n",
       "      <td>31.000000</td>\n",
       "      <td>37.000000</td>\n",
       "      <td>11.000000</td>\n",
       "      <td>5.000000</td>\n",
       "      <td>1.000000</td>\n",
       "      <td>0.000000</td>\n",
       "      <td>1.0</td>\n",
       "      <td>0.000000</td>\n",
       "      <td>0.000000</td>\n",
       "      <td>0.000000</td>\n",
       "      <td>39.290385</td>\n",
       "      <td>-71.599205</td>\n",
       "      <td>39.952584</td>\n",
       "      <td>-71.109733</td>\n",
       "      <td>1032.791734</td>\n",
       "    </tr>\n",
       "    <tr>\n",
       "      <th>75%</th>\n",
       "      <td>2.000000</td>\n",
       "      <td>1.000000</td>\n",
       "      <td>3.000000</td>\n",
       "      <td>0.000000</td>\n",
       "      <td>2.000000</td>\n",
       "      <td>1.000000</td>\n",
       "      <td>3.000000</td>\n",
       "      <td>0.000000</td>\n",
       "      <td>77.000000</td>\n",
       "      <td>34.000000</td>\n",
       "      <td>42.000000</td>\n",
       "      <td>76.000000</td>\n",
       "      <td>36.000000</td>\n",
       "      <td>44.000000</td>\n",
       "      <td>22.000000</td>\n",
       "      <td>9.000000</td>\n",
       "      <td>1.000000</td>\n",
       "      <td>0.000000</td>\n",
       "      <td>1.0</td>\n",
       "      <td>1.000000</td>\n",
       "      <td>1.000000</td>\n",
       "      <td>0.000000</td>\n",
       "      <td>42.331427</td>\n",
       "      <td>32.493155</td>\n",
       "      <td>43.003813</td>\n",
       "      <td>29.060964</td>\n",
       "      <td>3252.501789</td>\n",
       "    </tr>\n",
       "    <tr>\n",
       "      <th>max</th>\n",
       "      <td>5.000000</td>\n",
       "      <td>5.000000</td>\n",
       "      <td>7.000000</td>\n",
       "      <td>2.000000</td>\n",
       "      <td>5.000000</td>\n",
       "      <td>5.000000</td>\n",
       "      <td>7.000000</td>\n",
       "      <td>1.000000</td>\n",
       "      <td>105.000000</td>\n",
       "      <td>70.000000</td>\n",
       "      <td>70.000000</td>\n",
       "      <td>104.000000</td>\n",
       "      <td>70.000000</td>\n",
       "      <td>70.000000</td>\n",
       "      <td>70.000000</td>\n",
       "      <td>39.000000</td>\n",
       "      <td>4.000000</td>\n",
       "      <td>1.000000</td>\n",
       "      <td>1.0</td>\n",
       "      <td>1.000000</td>\n",
       "      <td>1.000000</td>\n",
       "      <td>1.000000</td>\n",
       "      <td>70.370640</td>\n",
       "      <td>176.919190</td>\n",
       "      <td>69.649772</td>\n",
       "      <td>175.209907</td>\n",
       "      <td>18737.941026</td>\n",
       "    </tr>\n",
       "  </tbody>\n",
       "</table>\n",
       "</div>"
      ],
      "text/plain": [
       "       Number_of_Marriage  Number_of_Divorce  Number_of_Children  \\\n",
       "count        16770.000000       16770.000000        11011.000000   \n",
       "mean             1.393679           0.632021            2.100627   \n",
       "std              0.728885           0.847140            1.135926   \n",
       "min              1.000000           0.000000            1.000000   \n",
       "25%              1.000000           0.000000            1.000000   \n",
       "50%              1.000000           0.000000            2.000000   \n",
       "75%              2.000000           1.000000            3.000000   \n",
       "max              5.000000           5.000000            7.000000   \n",
       "\n",
       "       Marriages_End_in_Death  Number_of_Marriage_Spouse  \\\n",
       "count            16770.000000                5042.000000   \n",
       "mean                 0.144603                   1.531932   \n",
       "std                  0.373102                   0.875889   \n",
       "min                  0.000000                   1.000000   \n",
       "25%                  0.000000                   1.000000   \n",
       "50%                  0.000000                   1.000000   \n",
       "75%                  0.000000                   2.000000   \n",
       "max                  2.000000                   5.000000   \n",
       "\n",
       "       Number_of_Divorce_Spouse  Number_of_Children_Spouse  First_Marriage  \\\n",
       "count               4600.000000                3375.000000    16770.000000   \n",
       "mean                   0.853696                   2.165926        0.194335   \n",
       "std                    0.993624                   1.183652        0.395700   \n",
       "min                    0.000000                   1.000000        0.000000   \n",
       "25%                    0.000000                   1.000000        0.000000   \n",
       "50%                    1.000000                   2.000000        0.000000   \n",
       "75%                    1.000000                   3.000000        0.000000   \n",
       "max                    5.000000                   7.000000        1.000000   \n",
       "\n",
       "                Age  Age_at_Marriage  Age_at_Divorce  Age_of_Spouse  \\\n",
       "count  15707.000000     15558.000000     6559.000000    4891.000000   \n",
       "mean      61.260966        29.953979       36.020582      61.542425   \n",
       "std       18.328016         7.801117        9.634208      17.509857   \n",
       "min       18.000000        15.000000       16.000000      21.000000   \n",
       "25%       46.000000        24.000000       29.000000      47.000000   \n",
       "50%       60.000000        29.000000       34.000000      60.000000   \n",
       "75%       77.000000        34.000000       42.000000      76.000000   \n",
       "max      105.000000        70.000000       70.000000     104.000000   \n",
       "\n",
       "       Age_at_Marriage_Spouse  Age_at_Divorce_Spouse  Duration_of_Marriage  \\\n",
       "count             4867.000000            2250.000000          15534.000000   \n",
       "mean                31.938566              38.336889             15.965817   \n",
       "std                  8.279273               9.441840             14.801811   \n",
       "min                 16.000000              18.000000              1.000000   \n",
       "25%                 26.000000              32.000000              5.000000   \n",
       "50%                 31.000000              37.000000             11.000000   \n",
       "75%                 36.000000              44.000000             22.000000   \n",
       "max                 70.000000              70.000000             70.000000   \n",
       "\n",
       "       Age_Difference  Number_of_Roles  Spouse_is_Celebrity  Married  \\\n",
       "count     4583.000000     16770.000000         16770.000000  16770.0   \n",
       "mean         6.394501         1.282349             0.127490      1.0   \n",
       "std          5.812522         0.605109             0.333531      0.0   \n",
       "min          0.000000         1.000000             0.000000      1.0   \n",
       "25%          2.000000         1.000000             0.000000      1.0   \n",
       "50%          5.000000         1.000000             0.000000      1.0   \n",
       "75%          9.000000         1.000000             0.000000      1.0   \n",
       "max         39.000000         4.000000             1.000000      1.0   \n",
       "\n",
       "           Divorced  Alive_or_Dead  Alive_or_Dead_Spouse      Latitude  \\\n",
       "count  16770.000000   16770.000000          16770.000000  15982.000000   \n",
       "mean       0.449672       0.333810              0.110972     33.258800   \n",
       "std        0.497475       0.471587              0.314107     19.272817   \n",
       "min        0.000000       0.000000              0.000000    -46.417871   \n",
       "25%        0.000000       0.000000              0.000000     31.230416   \n",
       "50%        0.000000       0.000000              0.000000     39.290385   \n",
       "75%        1.000000       1.000000              0.000000     42.331427   \n",
       "max        1.000000       1.000000              1.000000     70.370640   \n",
       "\n",
       "          Longitude  Latitude_Spouse  Longitude_Spouse      Distance  \n",
       "count  15982.000000      4940.000000       4940.000000   4712.000000  \n",
       "mean     -22.009506        34.914601        -21.800480   2421.493675  \n",
       "std       82.194297        18.060025         81.662802   3354.893096  \n",
       "min     -171.751355       -53.163384       -157.858140      0.000000  \n",
       "25%      -86.251990        32.776664        -85.548898    272.552629  \n",
       "50%      -71.599205        39.952584        -71.109733   1032.791734  \n",
       "75%       32.493155        43.003813         29.060964   3252.501789  \n",
       "max      176.919190        69.649772        175.209907  18737.941026  "
      ]
     },
     "execution_count": 592,
     "metadata": {},
     "output_type": "execute_result"
    }
   ],
   "source": [
    "celebrities = pd.read_csv('Celebrities_Cleaned_Married.csv')\n",
    "celebrities.describe()"
   ]
  },
  {
   "cell_type": "markdown",
   "id": "58d15546",
   "metadata": {},
   "source": [
    "Categorizing the Sex column:"
   ]
  },
  {
   "cell_type": "code",
   "execution_count": 593,
   "id": "a0ee64d4",
   "metadata": {},
   "outputs": [],
   "source": [
    "celebrities['Sex'] = celebrities['Sex'].replace({'F':0, 'M':1})"
   ]
  },
  {
   "cell_type": "markdown",
   "id": "72acd56b",
   "metadata": {},
   "source": [
    "Choosing appropriate features for predicting divorce of celebrities:"
   ]
  },
  {
   "cell_type": "code",
   "execution_count": 594,
   "id": "23038c5f",
   "metadata": {},
   "outputs": [],
   "source": [
    "columns_for_ML = ['Number_of_Children', 'Number_of_Children_Spouse', 'Sex', 'Age', 'Age_at_Marriage', 'Age_of_Spouse', \n",
    "                  'Age_at_Marriage_Spouse', 'Age_Difference', 'Number_of_Roles', 'Spouse_is_Celebrity', 'Distance', 'Divorced']\n",
    "celebrities_ML = celebrities[columns_for_ML]\n",
    "\n",
    "celebrities_ML.to_csv('Celebrities_Cleaned_Married_Imputed_ML.csv', index=True)"
   ]
  },
  {
   "cell_type": "code",
   "execution_count": 595,
   "id": "ab78508e",
   "metadata": {},
   "outputs": [
    {
     "data": {
      "text/html": [
       "<div>\n",
       "<style scoped>\n",
       "    .dataframe tbody tr th:only-of-type {\n",
       "        vertical-align: middle;\n",
       "    }\n",
       "\n",
       "    .dataframe tbody tr th {\n",
       "        vertical-align: top;\n",
       "    }\n",
       "\n",
       "    .dataframe thead th {\n",
       "        text-align: right;\n",
       "    }\n",
       "</style>\n",
       "<table border=\"1\" class=\"dataframe\">\n",
       "  <thead>\n",
       "    <tr style=\"text-align: right;\">\n",
       "      <th></th>\n",
       "      <th>Number_of_Children</th>\n",
       "      <th>Number_of_Children_Spouse</th>\n",
       "      <th>Sex</th>\n",
       "      <th>Age</th>\n",
       "      <th>Age_at_Marriage</th>\n",
       "      <th>Age_of_Spouse</th>\n",
       "      <th>Age_at_Marriage_Spouse</th>\n",
       "      <th>Age_Difference</th>\n",
       "      <th>Number_of_Roles</th>\n",
       "      <th>Spouse_is_Celebrity</th>\n",
       "      <th>Distance</th>\n",
       "      <th>Divorced</th>\n",
       "    </tr>\n",
       "  </thead>\n",
       "  <tbody>\n",
       "    <tr>\n",
       "      <th>count</th>\n",
       "      <td>11011.000000</td>\n",
       "      <td>3375.000000</td>\n",
       "      <td>16770.00000</td>\n",
       "      <td>15707.000000</td>\n",
       "      <td>15558.000000</td>\n",
       "      <td>4891.000000</td>\n",
       "      <td>4867.000000</td>\n",
       "      <td>4583.000000</td>\n",
       "      <td>16770.000000</td>\n",
       "      <td>16770.000000</td>\n",
       "      <td>4712.000000</td>\n",
       "      <td>16770.000000</td>\n",
       "    </tr>\n",
       "    <tr>\n",
       "      <th>mean</th>\n",
       "      <td>2.100627</td>\n",
       "      <td>2.165926</td>\n",
       "      <td>0.46136</td>\n",
       "      <td>61.260966</td>\n",
       "      <td>29.953979</td>\n",
       "      <td>61.542425</td>\n",
       "      <td>31.938566</td>\n",
       "      <td>6.394501</td>\n",
       "      <td>1.282349</td>\n",
       "      <td>0.127490</td>\n",
       "      <td>2421.493675</td>\n",
       "      <td>0.449672</td>\n",
       "    </tr>\n",
       "    <tr>\n",
       "      <th>std</th>\n",
       "      <td>1.135926</td>\n",
       "      <td>1.183652</td>\n",
       "      <td>0.49852</td>\n",
       "      <td>18.328016</td>\n",
       "      <td>7.801117</td>\n",
       "      <td>17.509857</td>\n",
       "      <td>8.279273</td>\n",
       "      <td>5.812522</td>\n",
       "      <td>0.605109</td>\n",
       "      <td>0.333531</td>\n",
       "      <td>3354.893096</td>\n",
       "      <td>0.497475</td>\n",
       "    </tr>\n",
       "    <tr>\n",
       "      <th>min</th>\n",
       "      <td>1.000000</td>\n",
       "      <td>1.000000</td>\n",
       "      <td>0.00000</td>\n",
       "      <td>18.000000</td>\n",
       "      <td>15.000000</td>\n",
       "      <td>21.000000</td>\n",
       "      <td>16.000000</td>\n",
       "      <td>0.000000</td>\n",
       "      <td>1.000000</td>\n",
       "      <td>0.000000</td>\n",
       "      <td>0.000000</td>\n",
       "      <td>0.000000</td>\n",
       "    </tr>\n",
       "    <tr>\n",
       "      <th>25%</th>\n",
       "      <td>1.000000</td>\n",
       "      <td>1.000000</td>\n",
       "      <td>0.00000</td>\n",
       "      <td>46.000000</td>\n",
       "      <td>24.000000</td>\n",
       "      <td>47.000000</td>\n",
       "      <td>26.000000</td>\n",
       "      <td>2.000000</td>\n",
       "      <td>1.000000</td>\n",
       "      <td>0.000000</td>\n",
       "      <td>272.552629</td>\n",
       "      <td>0.000000</td>\n",
       "    </tr>\n",
       "    <tr>\n",
       "      <th>50%</th>\n",
       "      <td>2.000000</td>\n",
       "      <td>2.000000</td>\n",
       "      <td>0.00000</td>\n",
       "      <td>60.000000</td>\n",
       "      <td>29.000000</td>\n",
       "      <td>60.000000</td>\n",
       "      <td>31.000000</td>\n",
       "      <td>5.000000</td>\n",
       "      <td>1.000000</td>\n",
       "      <td>0.000000</td>\n",
       "      <td>1032.791734</td>\n",
       "      <td>0.000000</td>\n",
       "    </tr>\n",
       "    <tr>\n",
       "      <th>75%</th>\n",
       "      <td>3.000000</td>\n",
       "      <td>3.000000</td>\n",
       "      <td>1.00000</td>\n",
       "      <td>77.000000</td>\n",
       "      <td>34.000000</td>\n",
       "      <td>76.000000</td>\n",
       "      <td>36.000000</td>\n",
       "      <td>9.000000</td>\n",
       "      <td>1.000000</td>\n",
       "      <td>0.000000</td>\n",
       "      <td>3252.501789</td>\n",
       "      <td>1.000000</td>\n",
       "    </tr>\n",
       "    <tr>\n",
       "      <th>max</th>\n",
       "      <td>7.000000</td>\n",
       "      <td>7.000000</td>\n",
       "      <td>1.00000</td>\n",
       "      <td>105.000000</td>\n",
       "      <td>70.000000</td>\n",
       "      <td>104.000000</td>\n",
       "      <td>70.000000</td>\n",
       "      <td>39.000000</td>\n",
       "      <td>4.000000</td>\n",
       "      <td>1.000000</td>\n",
       "      <td>18737.941026</td>\n",
       "      <td>1.000000</td>\n",
       "    </tr>\n",
       "  </tbody>\n",
       "</table>\n",
       "</div>"
      ],
      "text/plain": [
       "       Number_of_Children  Number_of_Children_Spouse          Sex  \\\n",
       "count        11011.000000                3375.000000  16770.00000   \n",
       "mean             2.100627                   2.165926      0.46136   \n",
       "std              1.135926                   1.183652      0.49852   \n",
       "min              1.000000                   1.000000      0.00000   \n",
       "25%              1.000000                   1.000000      0.00000   \n",
       "50%              2.000000                   2.000000      0.00000   \n",
       "75%              3.000000                   3.000000      1.00000   \n",
       "max              7.000000                   7.000000      1.00000   \n",
       "\n",
       "                Age  Age_at_Marriage  Age_of_Spouse  Age_at_Marriage_Spouse  \\\n",
       "count  15707.000000     15558.000000    4891.000000             4867.000000   \n",
       "mean      61.260966        29.953979      61.542425               31.938566   \n",
       "std       18.328016         7.801117      17.509857                8.279273   \n",
       "min       18.000000        15.000000      21.000000               16.000000   \n",
       "25%       46.000000        24.000000      47.000000               26.000000   \n",
       "50%       60.000000        29.000000      60.000000               31.000000   \n",
       "75%       77.000000        34.000000      76.000000               36.000000   \n",
       "max      105.000000        70.000000     104.000000               70.000000   \n",
       "\n",
       "       Age_Difference  Number_of_Roles  Spouse_is_Celebrity      Distance  \\\n",
       "count     4583.000000     16770.000000         16770.000000   4712.000000   \n",
       "mean         6.394501         1.282349             0.127490   2421.493675   \n",
       "std          5.812522         0.605109             0.333531   3354.893096   \n",
       "min          0.000000         1.000000             0.000000      0.000000   \n",
       "25%          2.000000         1.000000             0.000000    272.552629   \n",
       "50%          5.000000         1.000000             0.000000   1032.791734   \n",
       "75%          9.000000         1.000000             0.000000   3252.501789   \n",
       "max         39.000000         4.000000             1.000000  18737.941026   \n",
       "\n",
       "           Divorced  \n",
       "count  16770.000000  \n",
       "mean       0.449672  \n",
       "std        0.497475  \n",
       "min        0.000000  \n",
       "25%        0.000000  \n",
       "50%        0.000000  \n",
       "75%        1.000000  \n",
       "max        1.000000  "
      ]
     },
     "execution_count": 595,
     "metadata": {},
     "output_type": "execute_result"
    }
   ],
   "source": [
    "celebrities_ML.describe()"
   ]
  },
  {
   "cell_type": "markdown",
   "id": "66fbc91a",
   "metadata": {},
   "source": [
    "There are missing values in features. To handle that we use knn imputer to fill those nan values. So first we iterate over number of neighbors for knn imputer to find for which value of n_neighbors, the accuracy is the highest. Then we apply the model to test set. we do the same strategy for different classifier algorithms namely, Logistic Regression, K-Nearest Neighbors (KNN) classifier, Support Vector Machine (SVM), Decision Tree classifier, Random Forest classifier, XGBoost classifier and neural network classifiers. "
   ]
  },
  {
   "cell_type": "markdown",
   "id": "1565a510",
   "metadata": {},
   "source": [
    "# 1) Logistic Regression"
   ]
  },
  {
   "cell_type": "code",
   "execution_count": 17,
   "id": "6dab4804",
   "metadata": {},
   "outputs": [
    {
     "name": "stdout",
     "output_type": "stream",
     "text": [
      "839.0556290149689\n"
     ]
    }
   ],
   "source": [
    "start = time.time()\n",
    "\n",
    "accuracy_average_lr = []\n",
    "\n",
    "for k in range(5, 50):\n",
    "    \n",
    "    accuracy_average = 0 \n",
    "    \n",
    "    celebrities_ML_copy = celebrities_ML.copy()\n",
    "\n",
    "    knn_imputer = KNNImputer(n_neighbors=k)\n",
    "    celebrities_ML_copy[celebrities_ML_copy.columns] = knn_imputer.fit_transform(celebrities_ML_copy)\n",
    "    \n",
    "    columns_to_standardize = [col for col in celebrities_ML_copy.columns if col != 'Divorced']\n",
    "    scaler = StandardScaler()\n",
    "    celebrities_ML_copy[columns_to_standardize] = scaler.fit_transform(celebrities_ML_copy[columns_to_standardize])\n",
    "    \n",
    "    X = celebrities_ML_copy.drop(columns= 'Divorced')\n",
    "    y = celebrities_ML_copy['Divorced']\n",
    "\n",
    "    X_train, X_test, y_train, y_test = train_test_split(X, y, test_size=0.2, shuffle=True, random_state=101)\n",
    "    \n",
    "    n_splits =5\n",
    "    kfold = KFold(n_splits = n_splits, shuffle = True, random_state = 222)\n",
    "\n",
    "    for train_idx, val_idx in kfold.split(X_train):\n",
    "    \n",
    "        X_train_train, X_val = X.iloc[train_idx], X.iloc[val_idx]\n",
    "        y_train_train, y_val = y.iloc[train_idx], y.iloc[val_idx]\n",
    "\n",
    "        lr = LogisticRegression(solver='liblinear', random_state= 13)\n",
    "        lr.fit(X_train_train, y_train_train)\n",
    "        y_pred = lr.predict(X_val) \n",
    "        \n",
    "        accuracy_average += accuracy_score(y_val, y_pred)/n_splits\n",
    "    \n",
    "    accuracy_average_lr.append(accuracy_average)\n",
    "\n",
    "end = time.time()\n",
    "elapsed_time = end-start\n",
    "print(elapsed_time)"
   ]
  },
  {
   "cell_type": "code",
   "execution_count": 606,
   "id": "e14bcfb4",
   "metadata": {},
   "outputs": [
    {
     "data": {
      "text/plain": [
       "Text(0, 0.5, 'Accuracy')"
      ]
     },
     "execution_count": 606,
     "metadata": {},
     "output_type": "execute_result"
    },
    {
     "data": {
      "image/png": "[encoded data removed]",
      "text/plain": [
       "<Figure size 576x432 with 1 Axes>"
      ]
     },
     "metadata": {
      "needs_background": "light"
     },
     "output_type": "display_data"
    }
   ],
   "source": [
    "plt.figure(figsize=(8, 6))\n",
    "plt.plot([k for k in range(5, 50)], accuracy_average_lr, color = 'red')\n",
    "plt.xlabel('Number of Neighbors', fontsize = 14)\n",
    "plt.ylabel('Accuracy', fontsize = 14)"
   ]
  },
  {
   "cell_type": "code",
   "execution_count": 607,
   "id": "3c015773",
   "metadata": {},
   "outputs": [
    {
     "name": "stdout",
     "output_type": "stream",
     "text": [
      "Highest accuracy for Logistic Regression: 0.82617696119465\n",
      "Best number of neighbors for KNN imputer: 26\n"
     ]
    }
   ],
   "source": [
    "Highest_accuracy_lr = max(accuracy_average_lr)\n",
    "Best_Number_of_Neighbors_lr = 5 + np.argmax(accuracy_average_lr)\n",
    "print(f'Highest accuracy for Logistic Regression: {Highest_accuracy_lr}')\n",
    "print(f'Best number of neighbors for KNN imputer: {Best_Number_of_Neighbors_lr}' )"
   ]
  },
  {
   "cell_type": "code",
   "execution_count": 608,
   "id": "058ddd58",
   "metadata": {},
   "outputs": [],
   "source": [
    "celebrities_ML_copy = celebrities_ML.copy()\n",
    "\n",
    "knn_imputer = KNNImputer(n_neighbors=Best_Number_of_Neighbors_lr)\n",
    "celebrities_ML_copy[celebrities_ML_copy.columns] = knn_imputer.fit_transform(celebrities_ML_copy)\n",
    "\n",
    "columns_to_standardize = [col for col in celebrities_ML_copy.columns if col != 'Divorced']\n",
    "scaler = StandardScaler()\n",
    "celebrities_ML_copy[columns_to_standardize] = scaler.fit_transform(celebrities_ML_copy[columns_to_standardize])\n",
    "\n",
    "X = celebrities_ML_copy.drop(columns= 'Divorced')\n",
    "y = celebrities_ML_copy['Divorced']\n",
    "\n",
    "X_train, X_test, y_train, y_test = train_test_split(X, y, test_size=0.2, shuffle=True, random_state=101)\n",
    "\n",
    "lr = LogisticRegression(solver='liblinear', random_state= 13)\n",
    "lr.fit(X_train, y_train)\n",
    "y_pred_train = lr.predict(X_train) \n",
    "y_pred_test = lr.predict(X_test)\n",
    "\n",
    "Training_Accuracy_lr = accuracy_score(y_train, y_pred_train)*100\n",
    "Testing_Accuracy_lr = accuracy_score(y_test, y_pred_test)*100"
   ]
  },
  {
   "cell_type": "code",
   "execution_count": 648,
   "id": "635d3d72",
   "metadata": {},
   "outputs": [
    {
     "data": {
      "text/html": [
       "<div>\n",
       "<style scoped>\n",
       "    .dataframe tbody tr th:only-of-type {\n",
       "        vertical-align: middle;\n",
       "    }\n",
       "\n",
       "    .dataframe tbody tr th {\n",
       "        vertical-align: top;\n",
       "    }\n",
       "\n",
       "    .dataframe thead th {\n",
       "        text-align: right;\n",
       "    }\n",
       "</style>\n",
       "<table border=\"1\" class=\"dataframe\">\n",
       "  <thead>\n",
       "    <tr style=\"text-align: right;\">\n",
       "      <th></th>\n",
       "      <th>Model</th>\n",
       "      <th>Training Accuracy (%)</th>\n",
       "      <th>Testing Accuracy (%)</th>\n",
       "      <th>Number of Neighbors (Imputer)</th>\n",
       "      <th>Tuned Training Accuracy (%)</th>\n",
       "      <th>Tuned Testing Accuracy (%)</th>\n",
       "      <th>Tuned Number of Neighbors (Imputer)</th>\n",
       "    </tr>\n",
       "  </thead>\n",
       "  <tbody>\n",
       "    <tr>\n",
       "      <th>0</th>\n",
       "      <td>Logistic Regression</td>\n",
       "      <td>82.34198</td>\n",
       "      <td>80.799046</td>\n",
       "      <td>26</td>\n",
       "      <td>NaN</td>\n",
       "      <td>NaN</td>\n",
       "      <td>NaN</td>\n",
       "    </tr>\n",
       "  </tbody>\n",
       "</table>\n",
       "</div>"
      ],
      "text/plain": [
       "                 Model  Training Accuracy (%)  Testing Accuracy (%)  \\\n",
       "0  Logistic Regression               82.34198             80.799046   \n",
       "\n",
       "   Number of Neighbors (Imputer)  Tuned Training Accuracy (%)  \\\n",
       "0                             26                          NaN   \n",
       "\n",
       "   Tuned Testing Accuracy (%)  Tuned Number of Neighbors (Imputer)  \n",
       "0                         NaN                                  NaN  "
      ]
     },
     "execution_count": 648,
     "metadata": {},
     "output_type": "execute_result"
    }
   ],
   "source": [
    "columns = ['Model', 'Training Accuracy (%)', 'Testing Accuracy (%)', 'Number of Neighbors (Imputer)', 'Tuned Training Accuracy (%)', 'Tuned Testing Accuracy (%)' ,'Tuned Number of Neighbors (Imputer)']\n",
    "data = [['Logistic Regression', Training_Accuracy_lr, Testing_Accuracy_lr, Best_Number_of_Neighbors_lr, np.nan, np.nan, np.nan]]\n",
    "\n",
    "Models_results = pd.DataFrame(data = data, columns= columns)\n",
    "Models_results"
   ]
  },
  {
   "cell_type": "code",
   "execution_count": 649,
   "id": "bacf8f31",
   "metadata": {},
   "outputs": [
    {
     "data": {
      "text/html": [
       "<div>\n",
       "<style scoped>\n",
       "    .dataframe tbody tr th:only-of-type {\n",
       "        vertical-align: middle;\n",
       "    }\n",
       "\n",
       "    .dataframe tbody tr th {\n",
       "        vertical-align: top;\n",
       "    }\n",
       "\n",
       "    .dataframe thead th {\n",
       "        text-align: right;\n",
       "    }\n",
       "</style>\n",
       "<table border=\"1\" class=\"dataframe\">\n",
       "  <thead>\n",
       "    <tr style=\"text-align: right;\">\n",
       "      <th></th>\n",
       "      <th>0.0</th>\n",
       "      <th>1.0</th>\n",
       "      <th>accuracy</th>\n",
       "      <th>macro avg</th>\n",
       "      <th>weighted avg</th>\n",
       "    </tr>\n",
       "  </thead>\n",
       "  <tbody>\n",
       "    <tr>\n",
       "      <th>precision</th>\n",
       "      <td>0.823993</td>\n",
       "      <td>0.822285</td>\n",
       "      <td>0.823271</td>\n",
       "      <td>0.823139</td>\n",
       "      <td>0.823226</td>\n",
       "    </tr>\n",
       "    <tr>\n",
       "      <th>recall</th>\n",
       "      <td>0.863581</td>\n",
       "      <td>0.773851</td>\n",
       "      <td>0.823271</td>\n",
       "      <td>0.818716</td>\n",
       "      <td>0.823271</td>\n",
       "    </tr>\n",
       "    <tr>\n",
       "      <th>f1-score</th>\n",
       "      <td>0.843323</td>\n",
       "      <td>0.797333</td>\n",
       "      <td>0.823271</td>\n",
       "      <td>0.820328</td>\n",
       "      <td>0.822662</td>\n",
       "    </tr>\n",
       "    <tr>\n",
       "      <th>support</th>\n",
       "      <td>7389.000000</td>\n",
       "      <td>6027.000000</td>\n",
       "      <td>0.823271</td>\n",
       "      <td>13416.000000</td>\n",
       "      <td>13416.000000</td>\n",
       "    </tr>\n",
       "  </tbody>\n",
       "</table>\n",
       "</div>"
      ],
      "text/plain": [
       "                   0.0          1.0  accuracy     macro avg  weighted avg\n",
       "precision     0.823993     0.822285  0.823271      0.823139      0.823226\n",
       "recall        0.863581     0.773851  0.823271      0.818716      0.823271\n",
       "f1-score      0.843323     0.797333  0.823271      0.820328      0.822662\n",
       "support    7389.000000  6027.000000  0.823271  13416.000000  13416.000000"
      ]
     },
     "execution_count": 649,
     "metadata": {},
     "output_type": "execute_result"
    }
   ],
   "source": [
    "pd.DataFrame(classification_report(y_train, y_pred_train, output_dict=True))"
   ]
  },
  {
   "cell_type": "code",
   "execution_count": 65,
   "id": "a7351739",
   "metadata": {},
   "outputs": [
    {
     "data": {
      "text/html": [
       "<div>\n",
       "<style scoped>\n",
       "    .dataframe tbody tr th:only-of-type {\n",
       "        vertical-align: middle;\n",
       "    }\n",
       "\n",
       "    .dataframe tbody tr th {\n",
       "        vertical-align: top;\n",
       "    }\n",
       "\n",
       "    .dataframe thead th {\n",
       "        text-align: right;\n",
       "    }\n",
       "</style>\n",
       "<table border=\"1\" class=\"dataframe\">\n",
       "  <thead>\n",
       "    <tr style=\"text-align: right;\">\n",
       "      <th></th>\n",
       "      <th>0.0</th>\n",
       "      <th>1.0</th>\n",
       "      <th>accuracy</th>\n",
       "      <th>macro avg</th>\n",
       "      <th>weighted avg</th>\n",
       "    </tr>\n",
       "  </thead>\n",
       "  <tbody>\n",
       "    <tr>\n",
       "      <th>precision</th>\n",
       "      <td>0.799299</td>\n",
       "      <td>0.820796</td>\n",
       "      <td>0.80799</td>\n",
       "      <td>0.810048</td>\n",
       "      <td>0.809003</td>\n",
       "    </tr>\n",
       "    <tr>\n",
       "      <th>recall</th>\n",
       "      <td>0.867935</td>\n",
       "      <td>0.735139</td>\n",
       "      <td>0.80799</td>\n",
       "      <td>0.801537</td>\n",
       "      <td>0.807990</td>\n",
       "    </tr>\n",
       "    <tr>\n",
       "      <th>f1-score</th>\n",
       "      <td>0.832204</td>\n",
       "      <td>0.775610</td>\n",
       "      <td>0.80799</td>\n",
       "      <td>0.803907</td>\n",
       "      <td>0.806657</td>\n",
       "    </tr>\n",
       "    <tr>\n",
       "      <th>support</th>\n",
       "      <td>1840.000000</td>\n",
       "      <td>1514.000000</td>\n",
       "      <td>0.80799</td>\n",
       "      <td>3354.000000</td>\n",
       "      <td>3354.000000</td>\n",
       "    </tr>\n",
       "  </tbody>\n",
       "</table>\n",
       "</div>"
      ],
      "text/plain": [
       "                   0.0          1.0  accuracy    macro avg  weighted avg\n",
       "precision     0.799299     0.820796   0.80799     0.810048      0.809003\n",
       "recall        0.867935     0.735139   0.80799     0.801537      0.807990\n",
       "f1-score      0.832204     0.775610   0.80799     0.803907      0.806657\n",
       "support    1840.000000  1514.000000   0.80799  3354.000000   3354.000000"
      ]
     },
     "execution_count": 65,
     "metadata": {},
     "output_type": "execute_result"
    }
   ],
   "source": [
    "pd.DataFrame(classification_report(y_test, y_pred_test, output_dict=True))"
   ]
  },
  {
   "cell_type": "code",
   "execution_count": 66,
   "id": "b1c24e32",
   "metadata": {},
   "outputs": [
    {
     "data": {
      "text/plain": [
       "array([[6390,  999],\n",
       "       [1370, 4657]])"
      ]
     },
     "execution_count": 66,
     "metadata": {},
     "output_type": "execute_result"
    }
   ],
   "source": [
    "confusion_matrix(y_train, y_pred_train)"
   ]
  },
  {
   "cell_type": "code",
   "execution_count": 67,
   "id": "1c330eb6",
   "metadata": {},
   "outputs": [
    {
     "data": {
      "text/plain": [
       "array([[1597,  243],\n",
       "       [ 401, 1113]])"
      ]
     },
     "execution_count": 67,
     "metadata": {},
     "output_type": "execute_result"
    }
   ],
   "source": [
    "confusion_matrix(y_test, y_pred_test)"
   ]
  },
  {
   "cell_type": "markdown",
   "id": "8c2351ff",
   "metadata": {},
   "source": [
    "# 2) K Nearest-Neighbors Classifier"
   ]
  },
  {
   "cell_type": "code",
   "execution_count": 40,
   "id": "72dcfd28",
   "metadata": {},
   "outputs": [
    {
     "name": "stdout",
     "output_type": "stream",
     "text": [
      "713.1098091602325\n"
     ]
    }
   ],
   "source": [
    "start = time.time()\n",
    "\n",
    "accuracy_average_knn = []\n",
    "\n",
    "for k in range(5, 50):\n",
    "    \n",
    "    accuracy_average = 0 \n",
    "    \n",
    "    celebrities_ML_copy = celebrities_ML.copy()\n",
    "\n",
    "    knn_imputer = KNNImputer(n_neighbors=k)\n",
    "    celebrities_ML_copy[celebrities_ML_copy.columns] = knn_imputer.fit_transform(celebrities_ML_copy)\n",
    "    \n",
    "    columns_to_standardize = [col for col in celebrities_ML_copy.columns if col != 'Divorced']\n",
    "    scaler = StandardScaler()\n",
    "    celebrities_ML_copy[columns_to_standardize] = scaler.fit_transform(celebrities_ML_copy[columns_to_standardize])\n",
    "    \n",
    "    X = celebrities_ML_copy.drop(columns= 'Divorced')\n",
    "    y = celebrities_ML_copy['Divorced']\n",
    "\n",
    "    X_train, X_test, y_train, y_test = train_test_split(X, y, test_size=0.2, shuffle=True, random_state=101)\n",
    "    \n",
    "    n_splits = 5\n",
    "    kfold = KFold(n_splits = n_splits, shuffle = True, random_state = 222)\n",
    "\n",
    "    for train_idx, val_idx in kfold.split(X_train):\n",
    "    \n",
    "        X_train_train, X_val = X.iloc[train_idx], X.iloc[val_idx]\n",
    "        y_train_train, y_val = y.iloc[train_idx], y.iloc[val_idx]\n",
    "\n",
    "        knn = KNeighborsClassifier()\n",
    "        knn.fit(X_train_train, y_train_train)\n",
    "        \n",
    "        y_pred = knn.predict(X_val) \n",
    "        accuracy_average += accuracy_score(y_val, y_pred)/n_splits\n",
    "\n",
    "    accuracy_average_knn.append(accuracy_average)\n",
    "\n",
    "end = time.time()\n",
    "elapsed_time = end-start\n",
    "print(elapsed_time)"
   ]
  },
  {
   "cell_type": "code",
   "execution_count": 391,
   "id": "a6c79d36",
   "metadata": {},
   "outputs": [
    {
     "data": {
      "text/plain": [
       "Text(0, 0.5, 'Accuracy')"
      ]
     },
     "execution_count": 391,
     "metadata": {},
     "output_type": "execute_result"
    },
    {
     "data": {
      "image/png": "[encoded data removed]",
      "text/plain": [
       "<Figure size 576x432 with 1 Axes>"
      ]
     },
     "metadata": {
      "needs_background": "light"
     },
     "output_type": "display_data"
    }
   ],
   "source": [
    "plt.figure(figsize=(8, 6))\n",
    "plt.plot([k for k in range(5, 50)], accuracy_average_knn, color = 'red')\n",
    "plt.xlabel('Number of Neighbors', fontsize = 14)\n",
    "plt.ylabel('Accuracy', fontsize = 14)"
   ]
  },
  {
   "cell_type": "code",
   "execution_count": 393,
   "id": "e02b08a1",
   "metadata": {},
   "outputs": [
    {
     "name": "stdout",
     "output_type": "stream",
     "text": [
      "Highest accuracy for K-Nearest Neighbors: 0.8748503160318903\n",
      "Best number of neighbors for KNN imputer: 29\n"
     ]
    }
   ],
   "source": [
    "Highest_accuracy_knn = max(accuracy_average_knn)\n",
    "Best_Number_of_Neighbors_knn = 5 + np.argmax(accuracy_average_knn)\n",
    "print(f'Highest accuracy for K-Nearest Neighbors: {Highest_accuracy_knn}')\n",
    "print(f'Best number of neighbors for KNN imputer: {Best_Number_of_Neighbors_knn}' )"
   ]
  },
  {
   "cell_type": "code",
   "execution_count": 70,
   "id": "363bd957",
   "metadata": {},
   "outputs": [],
   "source": [
    "celebrities_ML_copy = celebrities_ML.copy()\n",
    "\n",
    "knn_imputer = KNNImputer(n_neighbors=Best_Number_of_Neighbors_knn)\n",
    "celebrities_ML_copy[celebrities_ML_copy.columns] = knn_imputer.fit_transform(celebrities_ML_copy)\n",
    "\n",
    "columns_to_standardize = [col for col in celebrities_ML_copy.columns if col != 'Divorced']\n",
    "scaler = StandardScaler()\n",
    "celebrities_ML_copy[columns_to_standardize] = scaler.fit_transform(celebrities_ML_copy[columns_to_standardize])\n",
    "\n",
    "X = celebrities_ML_copy.drop(columns= 'Divorced')\n",
    "y = celebrities_ML_copy['Divorced']\n",
    "\n",
    "X_train, X_test, y_train, y_test = train_test_split(X, y, test_size=0.2, shuffle=True, random_state=101)\n",
    "\n",
    "knn = KNeighborsClassifier()\n",
    "knn.fit(X_train_train, y_train_train)\n",
    "y_pred_train = knn.predict(X_train) \n",
    "y_pred_test = knn.predict(X_test)\n",
    "\n",
    "Training_Accuracy_knn = accuracy_score(y_train, y_pred_train)*100\n",
    "Testing_Accuracy_knn = accuracy_score(y_test, y_pred_test)*100"
   ]
  },
  {
   "cell_type": "code",
   "execution_count": 650,
   "id": "793c0258",
   "metadata": {},
   "outputs": [],
   "source": [
    "row_new = {'Model': 'K Nearest Neighbors',\n",
    "           'Training Accuracy (%)': Training_Accuracy_knn,\n",
    "           'Testing Accuracy (%)': Testing_Accuracy_knn,\n",
    "           'Number of Neighbors (Imputer)': Best_Number_of_Neighbors_knn,\n",
    "           'Tuned Training Accuracy (%)': np.nan,\n",
    "           'Tuned Testing Accuracy (%)': np.nan,\n",
    "           'Tuned Number of Neighbors (Imputer)': np.nan}\n",
    "\n",
    "df = pd.DataFrame([row_new], index=[0])\n",
    "\n",
    "Models_results = pd.concat([Models_results, df], ignore_index=True)"
   ]
  },
  {
   "cell_type": "code",
   "execution_count": 651,
   "id": "64dfafa4",
   "metadata": {},
   "outputs": [
    {
     "data": {
      "text/html": [
       "<div>\n",
       "<style scoped>\n",
       "    .dataframe tbody tr th:only-of-type {\n",
       "        vertical-align: middle;\n",
       "    }\n",
       "\n",
       "    .dataframe tbody tr th {\n",
       "        vertical-align: top;\n",
       "    }\n",
       "\n",
       "    .dataframe thead th {\n",
       "        text-align: right;\n",
       "    }\n",
       "</style>\n",
       "<table border=\"1\" class=\"dataframe\">\n",
       "  <thead>\n",
       "    <tr style=\"text-align: right;\">\n",
       "      <th></th>\n",
       "      <th>Model</th>\n",
       "      <th>Training Accuracy (%)</th>\n",
       "      <th>Testing Accuracy (%)</th>\n",
       "      <th>Number of Neighbors (Imputer)</th>\n",
       "      <th>Tuned Training Accuracy (%)</th>\n",
       "      <th>Tuned Testing Accuracy (%)</th>\n",
       "      <th>Tuned Number of Neighbors (Imputer)</th>\n",
       "    </tr>\n",
       "  </thead>\n",
       "  <tbody>\n",
       "    <tr>\n",
       "      <th>0</th>\n",
       "      <td>Logistic Regression</td>\n",
       "      <td>82.341980</td>\n",
       "      <td>80.799046</td>\n",
       "      <td>26</td>\n",
       "      <td>NaN</td>\n",
       "      <td>NaN</td>\n",
       "      <td>NaN</td>\n",
       "    </tr>\n",
       "    <tr>\n",
       "      <th>1</th>\n",
       "      <td>K Nearest Neighbors</td>\n",
       "      <td>82.349434</td>\n",
       "      <td>81.365534</td>\n",
       "      <td>29</td>\n",
       "      <td>NaN</td>\n",
       "      <td>NaN</td>\n",
       "      <td>NaN</td>\n",
       "    </tr>\n",
       "  </tbody>\n",
       "</table>\n",
       "</div>"
      ],
      "text/plain": [
       "                 Model  Training Accuracy (%)  Testing Accuracy (%)  \\\n",
       "0  Logistic Regression              82.341980             80.799046   \n",
       "1  K Nearest Neighbors              82.349434             81.365534   \n",
       "\n",
       "   Number of Neighbors (Imputer)  Tuned Training Accuracy (%)  \\\n",
       "0                             26                          NaN   \n",
       "1                             29                          NaN   \n",
       "\n",
       "   Tuned Testing Accuracy (%)  Tuned Number of Neighbors (Imputer)  \n",
       "0                         NaN                                  NaN  \n",
       "1                         NaN                                  NaN  "
      ]
     },
     "execution_count": 651,
     "metadata": {},
     "output_type": "execute_result"
    }
   ],
   "source": [
    "Models_results"
   ]
  },
  {
   "cell_type": "markdown",
   "id": "5253ad51",
   "metadata": {},
   "source": [
    "# 3) Support Vector Machine"
   ]
  },
  {
   "cell_type": "code",
   "execution_count": 41,
   "id": "adc0cab7",
   "metadata": {},
   "outputs": [
    {
     "name": "stdout",
     "output_type": "stream",
     "text": [
      "1178.2192640304565\n"
     ]
    }
   ],
   "source": [
    "start = time.time()\n",
    "\n",
    "accuracy_average_svm = []\n",
    "\n",
    "for k in range(5, 50):\n",
    "    \n",
    "    accuracy_average = 0 \n",
    "    \n",
    "    celebrities_ML_copy = celebrities_ML.copy()\n",
    "\n",
    "    knn_imputer = KNNImputer(n_neighbors=k)\n",
    "    celebrities_ML_copy[celebrities_ML_copy.columns] = knn_imputer.fit_transform(celebrities_ML_copy)\n",
    "    \n",
    "    columns_to_standardize = [col for col in celebrities_ML_copy.columns if col != 'Divorced']\n",
    "    scaler = StandardScaler()\n",
    "    celebrities_ML_copy[columns_to_standardize] = scaler.fit_transform(celebrities_ML_copy[columns_to_standardize])\n",
    "    \n",
    "    X = celebrities_ML_copy.drop(columns= 'Divorced')\n",
    "    y = celebrities_ML_copy['Divorced']\n",
    "\n",
    "    X_train, X_test, y_train, y_test = train_test_split(X, y, test_size=0.2, shuffle=True, random_state=101)\n",
    "    \n",
    "    n_splits =5\n",
    "    kfold = KFold(n_splits = n_splits, shuffle = True, random_state = 222)\n",
    "    \n",
    "    acuracy_average = 0 \n",
    "\n",
    "    for train_idx, val_idx in kfold.split(X_train):\n",
    "    \n",
    "        X_train_train, X_val = X.iloc[train_idx], X.iloc[val_idx]\n",
    "        y_train_train, y_val = y.iloc[train_idx], y.iloc[val_idx]\n",
    "\n",
    "        svm = SVC(kernel='rbf', gamma=0.1, C=1, random_state= 111)\n",
    "        svm.fit(X_train_train, y_train_train)\n",
    "        y_pred = svm.predict(X_val)\n",
    "        \n",
    "        accuracy_average += accuracy_score(y_val, y_pred)/n_splits\n",
    "\n",
    "    accuracy_average_svm.append(accuracy_average)\n",
    "\n",
    "end = time.time()\n",
    "elapsed_time = end-start\n",
    "print(elapsed_time)"
   ]
  },
  {
   "cell_type": "code",
   "execution_count": 80,
   "id": "bc5ae3e6",
   "metadata": {},
   "outputs": [
    {
     "data": {
      "text/plain": [
       "Text(0, 0.5, 'Accuracy')"
      ]
     },
     "execution_count": 80,
     "metadata": {},
     "output_type": "execute_result"
    },
    {
     "data": {
      "image/png": "[encoded data removed]",
      "text/plain": [
       "<Figure size 576x432 with 1 Axes>"
      ]
     },
     "metadata": {
      "needs_background": "light"
     },
     "output_type": "display_data"
    }
   ],
   "source": [
    "plt.figure(figsize=(8, 6))\n",
    "plt.plot([k for k in range(5, 50)], accuracy_average_svm, color = 'red')\n",
    "plt.xlabel('Number of Neighbors', fontsize = 14)\n",
    "plt.ylabel('Accuracy', fontsize = 14)"
   ]
  },
  {
   "cell_type": "code",
   "execution_count": 394,
   "id": "6da33eb5",
   "metadata": {},
   "outputs": [
    {
     "name": "stdout",
     "output_type": "stream",
     "text": [
      "Highest accuracy for Support Vector Machine: 0.8986285843471034\n",
      "Best number of neighbors for KNN imputer: 33\n"
     ]
    }
   ],
   "source": [
    "Highest_accuracy_svm = max(accuracy_average_svm)\n",
    "Best_Number_of_Neighbors_svm = 5 + np.argmax(accuracy_average_svm)\n",
    "print(f'Highest accuracy for Support Vector Machine: {Highest_accuracy_svm}')\n",
    "print(f'Best number of neighbors for KNN imputer: {Best_Number_of_Neighbors_svm}' )"
   ]
  },
  {
   "cell_type": "code",
   "execution_count": 83,
   "id": "1fb6952b",
   "metadata": {},
   "outputs": [],
   "source": [
    "celebrities_ML_copy = celebrities_ML.copy()\n",
    "\n",
    "knn_imputer = KNNImputer(n_neighbors=Best_Number_of_Neighbors_svm)\n",
    "celebrities_ML_copy[celebrities_ML_copy.columns] = knn_imputer.fit_transform(celebrities_ML_copy)\n",
    "\n",
    "columns_to_standardize = [col for col in celebrities_ML_copy.columns if col != 'Divorced']\n",
    "scaler = StandardScaler()\n",
    "celebrities_ML_copy[columns_to_standardize] = scaler.fit_transform(celebrities_ML_copy[columns_to_standardize])\n",
    "\n",
    "X = celebrities_ML_copy.drop(columns= 'Divorced')\n",
    "y = celebrities_ML_copy['Divorced']\n",
    "\n",
    "X_train, X_test, y_train, y_test = train_test_split(X, y, test_size=0.2, shuffle=True, random_state=101)\n",
    "\n",
    "svm = SVC(kernel='rbf', gamma=0.1, C=1, random_state= 111)\n",
    "svm.fit(X_train_train, y_train_train)\n",
    "y_pred_train = svm.predict(X_train) \n",
    "y_pred_test = svm.predict(X_test)\n",
    "\n",
    "Training_Accuracy_svm = accuracy_score(y_train, y_pred_train)*100\n",
    "Testing_Accuracy_svm = accuracy_score(y_test, y_pred_test)*100"
   ]
  },
  {
   "cell_type": "code",
   "execution_count": 652,
   "id": "b4777ac4",
   "metadata": {},
   "outputs": [],
   "source": [
    "row_new = {'Model': 'Support Vector Machine',\n",
    "           'Training Accuracy (%)': Training_Accuracy_svm,\n",
    "           'Testing Accuracy (%)': Testing_Accuracy_svm,\n",
    "           'Number of Neighbors (Imputer)': Best_Number_of_Neighbors_svm,\n",
    "           'Tuned Training Accuracy (%)': np.nan,\n",
    "           'Tuned Testing Accuracy (%)': np.nan,\n",
    "           'Tuned Number of Neighbors (Imputer)': np.nan}\n",
    "\n",
    "df = pd.DataFrame([row_new], index=[0])\n",
    "\n",
    "Models_results = pd.concat([Models_results, df], ignore_index=True )"
   ]
  },
  {
   "cell_type": "code",
   "execution_count": 653,
   "id": "e8eeba7d",
   "metadata": {},
   "outputs": [
    {
     "data": {
      "text/html": [
       "<div>\n",
       "<style scoped>\n",
       "    .dataframe tbody tr th:only-of-type {\n",
       "        vertical-align: middle;\n",
       "    }\n",
       "\n",
       "    .dataframe tbody tr th {\n",
       "        vertical-align: top;\n",
       "    }\n",
       "\n",
       "    .dataframe thead th {\n",
       "        text-align: right;\n",
       "    }\n",
       "</style>\n",
       "<table border=\"1\" class=\"dataframe\">\n",
       "  <thead>\n",
       "    <tr style=\"text-align: right;\">\n",
       "      <th></th>\n",
       "      <th>Model</th>\n",
       "      <th>Training Accuracy (%)</th>\n",
       "      <th>Testing Accuracy (%)</th>\n",
       "      <th>Number of Neighbors (Imputer)</th>\n",
       "      <th>Tuned Training Accuracy (%)</th>\n",
       "      <th>Tuned Testing Accuracy (%)</th>\n",
       "      <th>Tuned Number of Neighbors (Imputer)</th>\n",
       "    </tr>\n",
       "  </thead>\n",
       "  <tbody>\n",
       "    <tr>\n",
       "      <th>0</th>\n",
       "      <td>Logistic Regression</td>\n",
       "      <td>82.341980</td>\n",
       "      <td>80.799046</td>\n",
       "      <td>26</td>\n",
       "      <td>NaN</td>\n",
       "      <td>NaN</td>\n",
       "      <td>NaN</td>\n",
       "    </tr>\n",
       "    <tr>\n",
       "      <th>1</th>\n",
       "      <td>K Nearest Neighbors</td>\n",
       "      <td>82.349434</td>\n",
       "      <td>81.365534</td>\n",
       "      <td>29</td>\n",
       "      <td>NaN</td>\n",
       "      <td>NaN</td>\n",
       "      <td>NaN</td>\n",
       "    </tr>\n",
       "    <tr>\n",
       "      <th>2</th>\n",
       "      <td>Support Vector Machine</td>\n",
       "      <td>90.608229</td>\n",
       "      <td>90.011926</td>\n",
       "      <td>33</td>\n",
       "      <td>NaN</td>\n",
       "      <td>NaN</td>\n",
       "      <td>NaN</td>\n",
       "    </tr>\n",
       "  </tbody>\n",
       "</table>\n",
       "</div>"
      ],
      "text/plain": [
       "                    Model  Training Accuracy (%)  Testing Accuracy (%)  \\\n",
       "0     Logistic Regression              82.341980             80.799046   \n",
       "1     K Nearest Neighbors              82.349434             81.365534   \n",
       "2  Support Vector Machine              90.608229             90.011926   \n",
       "\n",
       "   Number of Neighbors (Imputer)  Tuned Training Accuracy (%)  \\\n",
       "0                             26                          NaN   \n",
       "1                             29                          NaN   \n",
       "2                             33                          NaN   \n",
       "\n",
       "   Tuned Testing Accuracy (%)  Tuned Number of Neighbors (Imputer)  \n",
       "0                         NaN                                  NaN  \n",
       "1                         NaN                                  NaN  \n",
       "2                         NaN                                  NaN  "
      ]
     },
     "execution_count": 653,
     "metadata": {},
     "output_type": "execute_result"
    }
   ],
   "source": [
    "Models_results"
   ]
  },
  {
   "cell_type": "markdown",
   "id": "17d8ad05",
   "metadata": {},
   "source": [
    "# 4) Decision Tree Classifier"
   ]
  },
  {
   "cell_type": "code",
   "execution_count": 42,
   "id": "a7f9e1ae",
   "metadata": {},
   "outputs": [
    {
     "name": "stdout",
     "output_type": "stream",
     "text": [
      "676.6053950786591\n"
     ]
    }
   ],
   "source": [
    "start = time.time()\n",
    "\n",
    "accuracy_average_tree = []\n",
    "\n",
    "for k in range(5, 50):\n",
    "    \n",
    "    accuracy_average = 0 \n",
    "    \n",
    "    celebrities_ML_copy = celebrities_ML.copy()\n",
    "\n",
    "    knn_imputer = KNNImputer(n_neighbors=k)\n",
    "    celebrities_ML_copy[celebrities_ML_copy.columns] = knn_imputer.fit_transform(celebrities_ML_copy)\n",
    "    \n",
    "    columns_to_standardize = [col for col in celebrities_ML_copy.columns if col != 'Divorced']\n",
    "    scaler = StandardScaler()\n",
    "    celebrities_ML_copy[columns_to_standardize] = scaler.fit_transform(celebrities_ML_copy[columns_to_standardize])\n",
    "    \n",
    "    X = celebrities_ML_copy.drop(columns= 'Divorced')\n",
    "    y = celebrities_ML_copy['Divorced']\n",
    "\n",
    "    X_train, X_test, y_train, y_test = train_test_split(X, y, test_size=0.2, shuffle=True, random_state=101)\n",
    "    \n",
    "    n_splits =5\n",
    "    kfold = KFold(n_splits = n_splits, shuffle = True, random_state = 222)\n",
    "    \n",
    "    acuracy_average = 0 \n",
    "\n",
    "    for train_idx, val_idx in kfold.split(X_train):\n",
    "    \n",
    "        X_train_train, X_val = X.iloc[train_idx], X.iloc[val_idx]\n",
    "        y_train_train, y_val = y.iloc[train_idx], y.iloc[val_idx]\n",
    "\n",
    "        tree = DecisionTreeClassifier(random_state=303)\n",
    "        tree.fit(X_train_train, y_train_train)\n",
    "        y_pred = tree.predict(X_val)\n",
    "        \n",
    "        accuracy_average += accuracy_score(y_val, y_pred)/n_splits\n",
    "        \n",
    "    accuracy_average_tree.append(accuracy_average)\n",
    "\n",
    "end = time.time()\n",
    "elapsed_time = end-start\n",
    "print(elapsed_time)"
   ]
  },
  {
   "cell_type": "code",
   "execution_count": 86,
   "id": "89e054a0",
   "metadata": {},
   "outputs": [
    {
     "data": {
      "text/plain": [
       "Text(0, 0.5, 'Accuracy')"
      ]
     },
     "execution_count": 86,
     "metadata": {},
     "output_type": "execute_result"
    },
    {
     "data": {
      "image/png": "[encoded data removed]",
      "text/plain": [
       "<Figure size 576x432 with 1 Axes>"
      ]
     },
     "metadata": {
      "needs_background": "light"
     },
     "output_type": "display_data"
    }
   ],
   "source": [
    "plt.figure(figsize=(8, 6))\n",
    "plt.plot([k for k in range(5, 50)], accuracy_average_tree, color = 'red')\n",
    "plt.xlabel('Number of Neighbors', fontsize = 14)\n",
    "plt.ylabel('Accuracy', fontsize = 14)"
   ]
  },
  {
   "cell_type": "code",
   "execution_count": 395,
   "id": "c289568e",
   "metadata": {},
   "outputs": [
    {
     "name": "stdout",
     "output_type": "stream",
     "text": [
      "Highest accuracy for Decision tree: 0.8795464960425886\n",
      "Best number of neighbors for KNN imputer: 44\n"
     ]
    }
   ],
   "source": [
    "Highest_accuracy_tree = max(accuracy_average_tree)\n",
    "Best_Number_of_Neighbors_tree = 5 + np.argmax(accuracy_average_tree)\n",
    "print(f'Highest accuracy for Decision tree: {Highest_accuracy_tree}')\n",
    "print(f'Best number of neighbors for KNN imputer: {Best_Number_of_Neighbors_tree}' )"
   ]
  },
  {
   "cell_type": "code",
   "execution_count": 89,
   "id": "57ecd670",
   "metadata": {},
   "outputs": [],
   "source": [
    "celebrities_ML_copy = celebrities_ML.copy()\n",
    "\n",
    "knn_imputer = KNNImputer(n_neighbors=Best_Number_of_Neighbors_tree)\n",
    "celebrities_ML_copy[celebrities_ML_copy.columns] = knn_imputer.fit_transform(celebrities_ML_copy)\n",
    "\n",
    "columns_to_standardize = [col for col in celebrities_ML_copy.columns if col != 'Divorced']\n",
    "scaler = StandardScaler()\n",
    "celebrities_ML_copy[columns_to_standardize] = scaler.fit_transform(celebrities_ML_copy[columns_to_standardize])\n",
    "\n",
    "X = celebrities_ML_copy.drop(columns= 'Divorced')\n",
    "y = celebrities_ML_copy['Divorced']\n",
    "\n",
    "X_train, X_test, y_train, y_test = train_test_split(X, y, test_size=0.2, shuffle=True, random_state=101)\n",
    "\n",
    "tree = DecisionTreeClassifier(random_state=303)\n",
    "tree.fit(X_train_train, y_train_train)\n",
    "y_pred_train = tree.predict(X_train) \n",
    "y_pred_test = tree.predict(X_test)\n",
    "\n",
    "Training_Accuracy_tree = accuracy_score(y_train, y_pred_train)*100\n",
    "Testing_Accuracy_tree = accuracy_score(y_test, y_pred_test)*100"
   ]
  },
  {
   "cell_type": "code",
   "execution_count": 654,
   "id": "27438c9b",
   "metadata": {},
   "outputs": [],
   "source": [
    "row_new = {'Model': 'Decision Tree',\n",
    "           'Training Accuracy (%)': Training_Accuracy_tree,\n",
    "           'Testing Accuracy (%)': Testing_Accuracy_tree,\n",
    "           'Number of Neighbors (Imputer)': Best_Number_of_Neighbors_tree,\n",
    "           'Tuned Training Accuracy (%)': np.nan,\n",
    "           'Tuned Testing Accuracy (%)': np.nan,\n",
    "           'Tuned Number of Neighbors (Imputer)': np.nan}\n",
    "\n",
    "df = pd.DataFrame([row_new], index=[0])\n",
    "\n",
    "Models_results = pd.concat([Models_results, df], ignore_index=True )"
   ]
  },
  {
   "cell_type": "code",
   "execution_count": 655,
   "id": "9d1a47e9",
   "metadata": {},
   "outputs": [
    {
     "data": {
      "text/html": [
       "<div>\n",
       "<style scoped>\n",
       "    .dataframe tbody tr th:only-of-type {\n",
       "        vertical-align: middle;\n",
       "    }\n",
       "\n",
       "    .dataframe tbody tr th {\n",
       "        vertical-align: top;\n",
       "    }\n",
       "\n",
       "    .dataframe thead th {\n",
       "        text-align: right;\n",
       "    }\n",
       "</style>\n",
       "<table border=\"1\" class=\"dataframe\">\n",
       "  <thead>\n",
       "    <tr style=\"text-align: right;\">\n",
       "      <th></th>\n",
       "      <th>Model</th>\n",
       "      <th>Training Accuracy (%)</th>\n",
       "      <th>Testing Accuracy (%)</th>\n",
       "      <th>Number of Neighbors (Imputer)</th>\n",
       "      <th>Tuned Training Accuracy (%)</th>\n",
       "      <th>Tuned Testing Accuracy (%)</th>\n",
       "      <th>Tuned Number of Neighbors (Imputer)</th>\n",
       "    </tr>\n",
       "  </thead>\n",
       "  <tbody>\n",
       "    <tr>\n",
       "      <th>0</th>\n",
       "      <td>Logistic Regression</td>\n",
       "      <td>82.341980</td>\n",
       "      <td>80.799046</td>\n",
       "      <td>26</td>\n",
       "      <td>NaN</td>\n",
       "      <td>NaN</td>\n",
       "      <td>NaN</td>\n",
       "    </tr>\n",
       "    <tr>\n",
       "      <th>1</th>\n",
       "      <td>K Nearest Neighbors</td>\n",
       "      <td>82.349434</td>\n",
       "      <td>81.365534</td>\n",
       "      <td>29</td>\n",
       "      <td>NaN</td>\n",
       "      <td>NaN</td>\n",
       "      <td>NaN</td>\n",
       "    </tr>\n",
       "    <tr>\n",
       "      <th>2</th>\n",
       "      <td>Support Vector Machine</td>\n",
       "      <td>90.608229</td>\n",
       "      <td>90.011926</td>\n",
       "      <td>33</td>\n",
       "      <td>NaN</td>\n",
       "      <td>NaN</td>\n",
       "      <td>NaN</td>\n",
       "    </tr>\n",
       "    <tr>\n",
       "      <th>3</th>\n",
       "      <td>Decision Tree</td>\n",
       "      <td>92.180978</td>\n",
       "      <td>92.307692</td>\n",
       "      <td>44</td>\n",
       "      <td>NaN</td>\n",
       "      <td>NaN</td>\n",
       "      <td>NaN</td>\n",
       "    </tr>\n",
       "  </tbody>\n",
       "</table>\n",
       "</div>"
      ],
      "text/plain": [
       "                    Model  Training Accuracy (%)  Testing Accuracy (%)  \\\n",
       "0     Logistic Regression              82.341980             80.799046   \n",
       "1     K Nearest Neighbors              82.349434             81.365534   \n",
       "2  Support Vector Machine              90.608229             90.011926   \n",
       "3           Decision Tree              92.180978             92.307692   \n",
       "\n",
       "   Number of Neighbors (Imputer)  Tuned Training Accuracy (%)  \\\n",
       "0                             26                          NaN   \n",
       "1                             29                          NaN   \n",
       "2                             33                          NaN   \n",
       "3                             44                          NaN   \n",
       "\n",
       "   Tuned Testing Accuracy (%)  Tuned Number of Neighbors (Imputer)  \n",
       "0                         NaN                                  NaN  \n",
       "1                         NaN                                  NaN  \n",
       "2                         NaN                                  NaN  \n",
       "3                         NaN                                  NaN  "
      ]
     },
     "execution_count": 655,
     "metadata": {},
     "output_type": "execute_result"
    }
   ],
   "source": [
    "Models_results"
   ]
  },
  {
   "cell_type": "markdown",
   "id": "248e9abf",
   "metadata": {},
   "source": [
    "# 5) Random Forrest Classifier"
   ]
  },
  {
   "cell_type": "code",
   "execution_count": 138,
   "id": "2dcd763e",
   "metadata": {},
   "outputs": [
    {
     "name": "stdout",
     "output_type": "stream",
     "text": [
      "3792.2296788692474\n"
     ]
    }
   ],
   "source": [
    "start = time.time()\n",
    "\n",
    "accuracy_average_forest = []\n",
    "\n",
    "for k in range(5, 50):\n",
    "    \n",
    "    accuracy_average = 0 \n",
    "    \n",
    "    celebrities_ML_copy = celebrities_ML.copy()\n",
    "\n",
    "    knn_imputer = KNNImputer(n_neighbors=k)\n",
    "    celebrities_ML_copy[celebrities_ML_copy.columns] = knn_imputer.fit_transform(celebrities_ML_copy)\n",
    "    \n",
    "    columns_to_standardize = [col for col in celebrities_ML_copy.columns if col != 'Divorced']\n",
    "    scaler = StandardScaler()\n",
    "    celebrities_ML_copy[columns_to_standardize] = scaler.fit_transform(celebrities_ML_copy[columns_to_standardize])\n",
    "    \n",
    "    X = celebrities_ML_copy.drop(columns= 'Divorced')\n",
    "    y = celebrities_ML_copy['Divorced']\n",
    "\n",
    "    X_train, X_test, y_train, y_test = train_test_split(X, y, test_size=0.2, shuffle=True, random_state=101)\n",
    "    \n",
    "    n_splits =5\n",
    "    kfold = KFold(n_splits = n_splits, shuffle = True, random_state = 222)\n",
    "    \n",
    "    acuracy_average = 0 \n",
    "\n",
    "    for train_idx, val_idx in kfold.split(X_train):\n",
    "    \n",
    "        X_train_train, X_val = X.iloc[train_idx], X.iloc[val_idx]\n",
    "        y_train_train, y_val = y.iloc[train_idx], y.iloc[val_idx]\n",
    "\n",
    "        rf = RandomForestClassifier(n_estimators=1000, random_state=359)\n",
    "        rf.fit(X_train_train, y_train_train)\n",
    "        y_pred = rf.predict(X_val)\n",
    "        \n",
    "        accuracy_average += accuracy_score(y_val, y_pred)/n_splits\n",
    "        \n",
    "    accuracy_average_forest.append(accuracy_average)\n",
    "\n",
    "end = time.time()\n",
    "elapsed_time = end-start\n",
    "print(elapsed_time)"
   ]
  },
  {
   "cell_type": "code",
   "execution_count": 141,
   "id": "edb92a1a",
   "metadata": {},
   "outputs": [
    {
     "data": {
      "text/plain": [
       "Text(0, 0.5, 'Accuracy')"
      ]
     },
     "execution_count": 141,
     "metadata": {},
     "output_type": "execute_result"
    },
    {
     "data": {
      "image/png": "[encoded data removed]",
      "text/plain": [
       "<Figure size 576x432 with 1 Axes>"
      ]
     },
     "metadata": {
      "needs_background": "light"
     },
     "output_type": "display_data"
    }
   ],
   "source": [
    "plt.figure(figsize=(8, 6))\n",
    "plt.plot([k for k in range(5, 50)], accuracy_average_forest, color = 'red')\n",
    "plt.xlabel('Number of Neighbors', fontsize = 14)\n",
    "plt.ylabel('Accuracy', fontsize = 14)"
   ]
  },
  {
   "cell_type": "code",
   "execution_count": 396,
   "id": "2206ca0d",
   "metadata": {},
   "outputs": [
    {
     "name": "stdout",
     "output_type": "stream",
     "text": [
      "Highest accuracy for Random Forest: 0.9084677327523909\n",
      "Best number of neighbors for KNN imputer: 40\n"
     ]
    }
   ],
   "source": [
    "Highest_accuracy_forest = max(accuracy_average_forest)\n",
    "Best_Number_of_Neighbors_forest = 5 + np.argmax(accuracy_average_forest)\n",
    "print(f'Highest accuracy for Random Forest: {Highest_accuracy_forest}')\n",
    "print(f'Best number of neighbors for KNN imputer: {Best_Number_of_Neighbors_forest}' )"
   ]
  },
  {
   "cell_type": "code",
   "execution_count": 143,
   "id": "377374f6",
   "metadata": {},
   "outputs": [],
   "source": [
    "celebrities_ML_copy = celebrities_ML.copy()\n",
    "\n",
    "knn_imputer = KNNImputer(n_neighbors=Best_Number_of_Neighbors_tree)\n",
    "celebrities_ML_copy[celebrities_ML_copy.columns] = knn_imputer.fit_transform(celebrities_ML_copy)\n",
    "\n",
    "columns_to_standardize = [col for col in celebrities_ML_copy.columns if col != 'Divorced']\n",
    "scaler = StandardScaler()\n",
    "celebrities_ML_copy[columns_to_standardize] = scaler.fit_transform(celebrities_ML_copy[columns_to_standardize])\n",
    "\n",
    "X = celebrities_ML_copy.drop(columns= 'Divorced')\n",
    "y = celebrities_ML_copy['Divorced']\n",
    "\n",
    "X_train, X_test, y_train, y_test = train_test_split(X, y, test_size=0.2, shuffle=True, random_state=101)\n",
    "\n",
    "rf = RandomForestClassifier(n_estimators=1000, random_state=359)\n",
    "rf.fit(X_train_train, y_train_train)\n",
    "y_pred_train = rf.predict(X_train) \n",
    "y_pred_test = rf.predict(X_test)\n",
    "\n",
    "Training_Accuracy_forest = accuracy_score(y_train, y_pred_train)*100\n",
    "Testing_Accuracy_forest = accuracy_score(y_test, y_pred_test)*100"
   ]
  },
  {
   "cell_type": "code",
   "execution_count": 656,
   "id": "71450cc4",
   "metadata": {},
   "outputs": [],
   "source": [
    "row_new = {'Model': 'Random Forest',\n",
    "           'Training Accuracy (%)': Training_Accuracy_forest,\n",
    "           'Testing Accuracy (%)': Testing_Accuracy_forest,\n",
    "           'Number of Neighbors (Imputer)': Best_Number_of_Neighbors_forest,\n",
    "           'Tuned Training Accuracy (%)': np.nan,\n",
    "           'Tuned Testing Accuracy (%)': np.nan,\n",
    "           'Tuned Number of Neighbors (Imputer)': np.nan}\n",
    "\n",
    "df = pd.DataFrame([row_new], index=[0])\n",
    "\n",
    "Models_results = pd.concat([Models_results, df], ignore_index=True )"
   ]
  },
  {
   "cell_type": "code",
   "execution_count": 657,
   "id": "6a9c285e",
   "metadata": {},
   "outputs": [
    {
     "data": {
      "text/html": [
       "<div>\n",
       "<style scoped>\n",
       "    .dataframe tbody tr th:only-of-type {\n",
       "        vertical-align: middle;\n",
       "    }\n",
       "\n",
       "    .dataframe tbody tr th {\n",
       "        vertical-align: top;\n",
       "    }\n",
       "\n",
       "    .dataframe thead th {\n",
       "        text-align: right;\n",
       "    }\n",
       "</style>\n",
       "<table border=\"1\" class=\"dataframe\">\n",
       "  <thead>\n",
       "    <tr style=\"text-align: right;\">\n",
       "      <th></th>\n",
       "      <th>Model</th>\n",
       "      <th>Training Accuracy (%)</th>\n",
       "      <th>Testing Accuracy (%)</th>\n",
       "      <th>Number of Neighbors (Imputer)</th>\n",
       "      <th>Tuned Training Accuracy (%)</th>\n",
       "      <th>Tuned Testing Accuracy (%)</th>\n",
       "      <th>Tuned Number of Neighbors (Imputer)</th>\n",
       "    </tr>\n",
       "  </thead>\n",
       "  <tbody>\n",
       "    <tr>\n",
       "      <th>0</th>\n",
       "      <td>Logistic Regression</td>\n",
       "      <td>82.341980</td>\n",
       "      <td>80.799046</td>\n",
       "      <td>26</td>\n",
       "      <td>NaN</td>\n",
       "      <td>NaN</td>\n",
       "      <td>NaN</td>\n",
       "    </tr>\n",
       "    <tr>\n",
       "      <th>1</th>\n",
       "      <td>K Nearest Neighbors</td>\n",
       "      <td>82.349434</td>\n",
       "      <td>81.365534</td>\n",
       "      <td>29</td>\n",
       "      <td>NaN</td>\n",
       "      <td>NaN</td>\n",
       "      <td>NaN</td>\n",
       "    </tr>\n",
       "    <tr>\n",
       "      <th>2</th>\n",
       "      <td>Support Vector Machine</td>\n",
       "      <td>90.608229</td>\n",
       "      <td>90.011926</td>\n",
       "      <td>33</td>\n",
       "      <td>NaN</td>\n",
       "      <td>NaN</td>\n",
       "      <td>NaN</td>\n",
       "    </tr>\n",
       "    <tr>\n",
       "      <th>3</th>\n",
       "      <td>Decision Tree</td>\n",
       "      <td>92.180978</td>\n",
       "      <td>92.307692</td>\n",
       "      <td>44</td>\n",
       "      <td>NaN</td>\n",
       "      <td>NaN</td>\n",
       "      <td>NaN</td>\n",
       "    </tr>\n",
       "    <tr>\n",
       "      <th>4</th>\n",
       "      <td>Random Forest</td>\n",
       "      <td>96.101670</td>\n",
       "      <td>96.094216</td>\n",
       "      <td>40</td>\n",
       "      <td>NaN</td>\n",
       "      <td>NaN</td>\n",
       "      <td>NaN</td>\n",
       "    </tr>\n",
       "  </tbody>\n",
       "</table>\n",
       "</div>"
      ],
      "text/plain": [
       "                    Model  Training Accuracy (%)  Testing Accuracy (%)  \\\n",
       "0     Logistic Regression              82.341980             80.799046   \n",
       "1     K Nearest Neighbors              82.349434             81.365534   \n",
       "2  Support Vector Machine              90.608229             90.011926   \n",
       "3           Decision Tree              92.180978             92.307692   \n",
       "4           Random Forest              96.101670             96.094216   \n",
       "\n",
       "   Number of Neighbors (Imputer)  Tuned Training Accuracy (%)  \\\n",
       "0                             26                          NaN   \n",
       "1                             29                          NaN   \n",
       "2                             33                          NaN   \n",
       "3                             44                          NaN   \n",
       "4                             40                          NaN   \n",
       "\n",
       "   Tuned Testing Accuracy (%)  Tuned Number of Neighbors (Imputer)  \n",
       "0                         NaN                                  NaN  \n",
       "1                         NaN                                  NaN  \n",
       "2                         NaN                                  NaN  \n",
       "3                         NaN                                  NaN  \n",
       "4                         NaN                                  NaN  "
      ]
     },
     "execution_count": 657,
     "metadata": {},
     "output_type": "execute_result"
    }
   ],
   "source": [
    "Models_results"
   ]
  },
  {
   "cell_type": "markdown",
   "id": "0629f05b",
   "metadata": {},
   "source": [
    "# 6) XGBoost Classifier"
   ]
  },
  {
   "cell_type": "code",
   "execution_count": 605,
   "id": "5e8ecfb2",
   "metadata": {},
   "outputs": [
    {
     "name": "stdout",
     "output_type": "stream",
     "text": [
      "916.474454164505\n"
     ]
    }
   ],
   "source": [
    "start = time.time()\n",
    "\n",
    "accuracy_average_xgboost = []\n",
    "\n",
    "for k in range(5, 50):\n",
    "    \n",
    "    accuracy_average = 0 \n",
    "    \n",
    "    celebrities_ML_copy = celebrities_ML.copy()\n",
    "\n",
    "    knn_imputer = KNNImputer(n_neighbors=k)\n",
    "    celebrities_ML_copy[celebrities_ML_copy.columns] = knn_imputer.fit_transform(celebrities_ML_copy)\n",
    "    \n",
    "    columns_to_standardize = [col for col in celebrities_ML_copy.columns if col != 'Divorced']\n",
    "    scaler = StandardScaler()\n",
    "    celebrities_ML_copy[columns_to_standardize] = scaler.fit_transform(celebrities_ML_copy[columns_to_standardize])\n",
    "    \n",
    "    X = celebrities_ML_copy.drop(columns= 'Divorced')\n",
    "    y = celebrities_ML_copy['Divorced']\n",
    "\n",
    "    X_train, X_test, y_train, y_test = train_test_split(X, y, test_size=0.2, shuffle=True, random_state=101)\n",
    "    \n",
    "    n_splits =5\n",
    "    kfold = KFold(n_splits = n_splits, shuffle = True, random_state = 222)\n",
    "    \n",
    "    acuracy_average = 0 \n",
    "\n",
    "    for train_idx, val_idx in kfold.split(X_train):\n",
    "    \n",
    "        X_train_train, X_val = X.iloc[train_idx], X.iloc[val_idx]\n",
    "        y_train_train, y_val = y.iloc[train_idx], y.iloc[val_idx]\n",
    "\n",
    "        xgb = XGBClassifier(use_label_encoder=False)\n",
    "        xgb.fit(X_train_train, y_train_train)\n",
    "        y_pred = xgb.predict(X_val)\n",
    "        \n",
    "        accuracy_average += accuracy_score(y_val, y_pred)/n_splits\n",
    "        \n",
    "    accuracy_average_xgboost.append(accuracy_average)\n",
    "\n",
    "end = time.time()\n",
    "elapsed_time = end-start\n",
    "print(elapsed_time)"
   ]
  },
  {
   "cell_type": "code",
   "execution_count": 600,
   "id": "e49d6eb1",
   "metadata": {},
   "outputs": [
    {
     "data": {
      "text/plain": [
       "Text(0, 0.5, 'Accuracy')"
      ]
     },
     "execution_count": 600,
     "metadata": {},
     "output_type": "execute_result"
    },
    {
     "data": {
      "image/png": "[encoded data removed]",
      "text/plain": [
       "<Figure size 576x432 with 1 Axes>"
      ]
     },
     "metadata": {
      "needs_background": "light"
     },
     "output_type": "display_data"
    }
   ],
   "source": [
    "plt.figure(figsize=(8, 6))\n",
    "plt.plot([k for k in range(5, 75)], accuracy_average_xgboost, color = 'red')\n",
    "plt.xlabel('Number of Neighbors', fontsize = 14)\n",
    "plt.ylabel('Accuracy', fontsize = 14)"
   ]
  },
  {
   "cell_type": "code",
   "execution_count": 601,
   "id": "4f387a85",
   "metadata": {},
   "outputs": [
    {
     "name": "stdout",
     "output_type": "stream",
     "text": [
      "Highest accuracy for XGBoost: 0.9205431838039697\n",
      "Best number of neighbors for KNN imputer: 68\n"
     ]
    }
   ],
   "source": [
    "Highest_accuracy_xgboost = max(accuracy_average_xgboost)\n",
    "Best_Number_of_Neighbors_xgboost = 5 + np.argmax(accuracy_average_xgboost)\n",
    "print(f'Highest accuracy for XGBoost: {Highest_accuracy_xgboost}')\n",
    "print(f'Best number of neighbors for KNN imputer: {Best_Number_of_Neighbors_xgboost}' )"
   ]
  },
  {
   "cell_type": "code",
   "execution_count": 602,
   "id": "258c59d9",
   "metadata": {
    "scrolled": true
   },
   "outputs": [],
   "source": [
    "celebrities_ML_copy = celebrities_ML.copy()\n",
    "\n",
    "knn_imputer = KNNImputer(n_neighbors=Best_Number_of_Neighbors_xgboost)\n",
    "celebrities_ML_copy[celebrities_ML_copy.columns] = knn_imputer.fit_transform(celebrities_ML_copy)\n",
    "\n",
    "columns_to_standardize = [col for col in celebrities_ML_copy.columns if col != 'Divorced']\n",
    "scaler = StandardScaler()\n",
    "celebrities_ML_copy[columns_to_standardize] = scaler.fit_transform(celebrities_ML_copy[columns_to_standardize])\n",
    "\n",
    "X = celebrities_ML_copy.drop(columns= 'Divorced')\n",
    "y = celebrities_ML_copy['Divorced']\n",
    "\n",
    "X_train, X_test, y_train, y_test = train_test_split(X, y, test_size=0.2, shuffle=True, random_state=101)\n",
    "\n",
    "xgb = XGBClassifier(use_label_encoder=False)\n",
    "xgb.fit(X_train_train, y_train_train)\n",
    "y_pred_train = xgb.predict(X_train) \n",
    "y_pred_test = xgb.predict(X_test)\n",
    "\n",
    "Training_Accuracy_xgboost = accuracy_score(y_train, y_pred_train)*100\n",
    "Testing_Accuracy_xgboost = accuracy_score(y_test, y_pred_test)*100"
   ]
  },
  {
   "cell_type": "code",
   "execution_count": 658,
   "id": "bf69a1c6",
   "metadata": {},
   "outputs": [],
   "source": [
    "row_new = {'Model': 'XGBoost',\n",
    "           'Training Accuracy (%)': Training_Accuracy_xgboost,\n",
    "           'Testing Accuracy (%)': Testing_Accuracy_xgboost,\n",
    "           'Number of Neighbors (Imputer)': Best_Number_of_Neighbors_xgboost,\n",
    "           'Tuned Training Accuracy (%)': np.nan,\n",
    "           'Tuned Testing Accuracy (%)': np.nan,\n",
    "           'Tuned Number of Neighbors (Imputer)': np.nan}\n",
    "\n",
    "df = pd.DataFrame([row_new], index=[0])\n",
    "\n",
    "Models_results = pd.concat([Models_results, df], ignore_index=True )"
   ]
  },
  {
   "cell_type": "code",
   "execution_count": 659,
   "id": "9f99b684",
   "metadata": {},
   "outputs": [
    {
     "data": {
      "text/html": [
       "<div>\n",
       "<style scoped>\n",
       "    .dataframe tbody tr th:only-of-type {\n",
       "        vertical-align: middle;\n",
       "    }\n",
       "\n",
       "    .dataframe tbody tr th {\n",
       "        vertical-align: top;\n",
       "    }\n",
       "\n",
       "    .dataframe thead th {\n",
       "        text-align: right;\n",
       "    }\n",
       "</style>\n",
       "<table border=\"1\" class=\"dataframe\">\n",
       "  <thead>\n",
       "    <tr style=\"text-align: right;\">\n",
       "      <th></th>\n",
       "      <th>Model</th>\n",
       "      <th>Training Accuracy (%)</th>\n",
       "      <th>Testing Accuracy (%)</th>\n",
       "      <th>Number of Neighbors (Imputer)</th>\n",
       "      <th>Tuned Training Accuracy (%)</th>\n",
       "      <th>Tuned Testing Accuracy (%)</th>\n",
       "      <th>Tuned Number of Neighbors (Imputer)</th>\n",
       "    </tr>\n",
       "  </thead>\n",
       "  <tbody>\n",
       "    <tr>\n",
       "      <th>0</th>\n",
       "      <td>Logistic Regression</td>\n",
       "      <td>82.341980</td>\n",
       "      <td>80.799046</td>\n",
       "      <td>26</td>\n",
       "      <td>NaN</td>\n",
       "      <td>NaN</td>\n",
       "      <td>NaN</td>\n",
       "    </tr>\n",
       "    <tr>\n",
       "      <th>1</th>\n",
       "      <td>K Nearest Neighbors</td>\n",
       "      <td>82.349434</td>\n",
       "      <td>81.365534</td>\n",
       "      <td>29</td>\n",
       "      <td>NaN</td>\n",
       "      <td>NaN</td>\n",
       "      <td>NaN</td>\n",
       "    </tr>\n",
       "    <tr>\n",
       "      <th>2</th>\n",
       "      <td>Support Vector Machine</td>\n",
       "      <td>90.608229</td>\n",
       "      <td>90.011926</td>\n",
       "      <td>33</td>\n",
       "      <td>NaN</td>\n",
       "      <td>NaN</td>\n",
       "      <td>NaN</td>\n",
       "    </tr>\n",
       "    <tr>\n",
       "      <th>3</th>\n",
       "      <td>Decision Tree</td>\n",
       "      <td>92.180978</td>\n",
       "      <td>92.307692</td>\n",
       "      <td>44</td>\n",
       "      <td>NaN</td>\n",
       "      <td>NaN</td>\n",
       "      <td>NaN</td>\n",
       "    </tr>\n",
       "    <tr>\n",
       "      <th>4</th>\n",
       "      <td>Random Forest</td>\n",
       "      <td>96.101670</td>\n",
       "      <td>96.094216</td>\n",
       "      <td>40</td>\n",
       "      <td>NaN</td>\n",
       "      <td>NaN</td>\n",
       "      <td>NaN</td>\n",
       "    </tr>\n",
       "    <tr>\n",
       "      <th>5</th>\n",
       "      <td>XGBoost</td>\n",
       "      <td>94.514013</td>\n",
       "      <td>94.514013</td>\n",
       "      <td>68</td>\n",
       "      <td>NaN</td>\n",
       "      <td>NaN</td>\n",
       "      <td>NaN</td>\n",
       "    </tr>\n",
       "  </tbody>\n",
       "</table>\n",
       "</div>"
      ],
      "text/plain": [
       "                    Model  Training Accuracy (%)  Testing Accuracy (%)  \\\n",
       "0     Logistic Regression              82.341980             80.799046   \n",
       "1     K Nearest Neighbors              82.349434             81.365534   \n",
       "2  Support Vector Machine              90.608229             90.011926   \n",
       "3           Decision Tree              92.180978             92.307692   \n",
       "4           Random Forest              96.101670             96.094216   \n",
       "5                 XGBoost              94.514013             94.514013   \n",
       "\n",
       "   Number of Neighbors (Imputer)  Tuned Training Accuracy (%)  \\\n",
       "0                             26                          NaN   \n",
       "1                             29                          NaN   \n",
       "2                             33                          NaN   \n",
       "3                             44                          NaN   \n",
       "4                             40                          NaN   \n",
       "5                             68                          NaN   \n",
       "\n",
       "   Tuned Testing Accuracy (%)  Tuned Number of Neighbors (Imputer)  \n",
       "0                         NaN                                  NaN  \n",
       "1                         NaN                                  NaN  \n",
       "2                         NaN                                  NaN  \n",
       "3                         NaN                                  NaN  \n",
       "4                         NaN                                  NaN  \n",
       "5                         NaN                                  NaN  "
      ]
     },
     "execution_count": 659,
     "metadata": {},
     "output_type": "execute_result"
    }
   ],
   "source": [
    "Models_results"
   ]
  },
  {
   "cell_type": "markdown",
   "id": "e8144bb6",
   "metadata": {},
   "source": [
    "Now we will use hyperparameter tuning to see we can increase the accuracy more!"
   ]
  },
  {
   "cell_type": "markdown",
   "id": "d16dd65c",
   "metadata": {},
   "source": [
    "# 7) Logestic Regression Hyperparameter Tuning"
   ]
  },
  {
   "cell_type": "code",
   "execution_count": 634,
   "id": "e03a61f9",
   "metadata": {},
   "outputs": [
    {
     "name": "stdout",
     "output_type": "stream",
     "text": [
      "Fitting 5 folds for each of 600 candidates, totalling 3000 fits\n",
      "Fitting 5 folds for each of 600 candidates, totalling 3000 fits\n",
      "Fitting 5 folds for each of 600 candidates, totalling 3000 fits\n",
      "Fitting 5 folds for each of 600 candidates, totalling 3000 fits\n",
      "Fitting 5 folds for each of 600 candidates, totalling 3000 fits\n",
      "Fitting 5 folds for each of 600 candidates, totalling 3000 fits\n",
      "Fitting 5 folds for each of 600 candidates, totalling 3000 fits\n",
      "Fitting 5 folds for each of 600 candidates, totalling 3000 fits\n",
      "Fitting 5 folds for each of 600 candidates, totalling 3000 fits\n",
      "Fitting 5 folds for each of 600 candidates, totalling 3000 fits\n",
      "Fitting 5 folds for each of 600 candidates, totalling 3000 fits\n",
      "Fitting 5 folds for each of 600 candidates, totalling 3000 fits\n",
      "Fitting 5 folds for each of 600 candidates, totalling 3000 fits\n",
      "Fitting 5 folds for each of 600 candidates, totalling 3000 fits\n",
      "Fitting 5 folds for each of 600 candidates, totalling 3000 fits\n",
      "Fitting 5 folds for each of 600 candidates, totalling 3000 fits\n",
      "Fitting 5 folds for each of 600 candidates, totalling 3000 fits\n",
      "Fitting 5 folds for each of 600 candidates, totalling 3000 fits\n",
      "Fitting 5 folds for each of 600 candidates, totalling 3000 fits\n",
      "Fitting 5 folds for each of 600 candidates, totalling 3000 fits\n",
      "Fitting 5 folds for each of 600 candidates, totalling 3000 fits\n",
      "Fitting 5 folds for each of 600 candidates, totalling 3000 fits\n",
      "Fitting 5 folds for each of 600 candidates, totalling 3000 fits\n",
      "Fitting 5 folds for each of 600 candidates, totalling 3000 fits\n",
      "Fitting 5 folds for each of 600 candidates, totalling 3000 fits\n",
      "Fitting 5 folds for each of 600 candidates, totalling 3000 fits\n",
      "Fitting 5 folds for each of 600 candidates, totalling 3000 fits\n",
      "Fitting 5 folds for each of 600 candidates, totalling 3000 fits\n",
      "Fitting 5 folds for each of 600 candidates, totalling 3000 fits\n",
      "Fitting 5 folds for each of 600 candidates, totalling 3000 fits\n",
      "Fitting 5 folds for each of 600 candidates, totalling 3000 fits\n",
      "Fitting 5 folds for each of 600 candidates, totalling 3000 fits\n",
      "Fitting 5 folds for each of 600 candidates, totalling 3000 fits\n",
      "Fitting 5 folds for each of 600 candidates, totalling 3000 fits\n",
      "Fitting 5 folds for each of 600 candidates, totalling 3000 fits\n",
      "Fitting 5 folds for each of 600 candidates, totalling 3000 fits\n",
      "Fitting 5 folds for each of 600 candidates, totalling 3000 fits\n",
      "Fitting 5 folds for each of 600 candidates, totalling 3000 fits\n",
      "Fitting 5 folds for each of 600 candidates, totalling 3000 fits\n",
      "Fitting 5 folds for each of 600 candidates, totalling 3000 fits\n",
      "Fitting 5 folds for each of 600 candidates, totalling 3000 fits\n",
      "Fitting 5 folds for each of 600 candidates, totalling 3000 fits\n",
      "Fitting 5 folds for each of 600 candidates, totalling 3000 fits\n",
      "Fitting 5 folds for each of 600 candidates, totalling 3000 fits\n",
      "Fitting 5 folds for each of 600 candidates, totalling 3000 fits\n",
      "1362.6404926776886\n"
     ]
    }
   ],
   "source": [
    "start = time.time()\n",
    "\n",
    "best_accuracy_lr = []\n",
    "best_parameters_lr = []\n",
    "\n",
    "params = {\"C\": np.logspace(-1, 1, 100),\n",
    "          \"solver\": ['lbfgs', 'liblinear', 'newton-cg', 'newton-cholesky', 'sag', 'saga']}\n",
    "\n",
    "lr = LogisticRegression()\n",
    "\n",
    "for k in range(5, 50):\n",
    "    \n",
    "    celebrities_ML_copy = celebrities_ML.copy()\n",
    "\n",
    "    knn_imputer = KNNImputer(n_neighbors=k)\n",
    "    celebrities_ML_copy[celebrities_ML_copy.columns] = knn_imputer.fit_transform(celebrities_ML_copy)\n",
    "    \n",
    "    columns_to_standardize = [col for col in celebrities_ML_copy.columns if col != 'Divorced']\n",
    "    scaler = StandardScaler()\n",
    "    celebrities_ML_copy[columns_to_standardize] = scaler.fit_transform(celebrities_ML_copy[columns_to_standardize])\n",
    "    \n",
    "    X = celebrities_ML_copy.drop(columns= 'Divorced')\n",
    "    y = celebrities_ML_copy['Divorced']\n",
    "\n",
    "    X_train, X_test, y_train, y_test = train_test_split(X, y, test_size=0.2, shuffle=True, random_state=101)\n",
    "    \n",
    "    lr_cv = GridSearchCV(lr, params, scoring=\"accuracy\", n_jobs=-1, verbose=1, cv=5)\n",
    "    lr_cv.fit(X_train, y_train)\n",
    "    \n",
    "    best_accuracy_lr.append(lr_cv.best_score_)\n",
    "    best_parameters_lr.append(lr_cv.best_params_)\n",
    "\n",
    "end = time.time()\n",
    "elapsed_time = end-start\n",
    "print(elapsed_time)"
   ]
  },
  {
   "cell_type": "code",
   "execution_count": 635,
   "id": "11e49238",
   "metadata": {},
   "outputs": [
    {
     "data": {
      "text/plain": [
       "Text(0, 0.5, 'Accuracy')"
      ]
     },
     "execution_count": 635,
     "metadata": {},
     "output_type": "execute_result"
    },
    {
     "data": {
      "image/png": "[encoded data removed]",
      "text/plain": [
       "<Figure size 720x432 with 1 Axes>"
      ]
     },
     "metadata": {
      "needs_background": "light"
     },
     "output_type": "display_data"
    }
   ],
   "source": [
    "plt.figure(figsize=(10, 6))\n",
    "plt.plot([k for k in range(5, 50)], best_accuracy_lr, color = 'red')\n",
    "plt.xlabel('Number of Neighbors', fontsize = 14)\n",
    "plt.ylabel('Accuracy', fontsize = 14)"
   ]
  },
  {
   "cell_type": "code",
   "execution_count": 636,
   "id": "3f41628d",
   "metadata": {},
   "outputs": [
    {
     "name": "stdout",
     "output_type": "stream",
     "text": [
      "Highest accuracy for Logistic Regression (hyperparameters tuned): 0.8229728160916029\n",
      "Best number of neighbors for imputer: 24\n",
      "Best set of hyperparameters: {'C': 10.0, 'solver': 'sag'}\n"
     ]
    }
   ],
   "source": [
    "Highest_accuracy_lr_tuned = max(best_accuracy_lr)\n",
    "Best_Number_of_Neighbors_lr_tuned = 5 + np.argmax(best_accuracy_lr)\n",
    "best_parameters_lr = best_parameters_lr[np.argmax(best_accuracy_lr)]\n",
    "print(f'Highest accuracy for Logistic Regression (hyperparameters tuned): {Highest_accuracy_lr_tuned}')\n",
    "print(f'Best number of neighbors for imputer: {Best_Number_of_Neighbors_lr_tuned}')\n",
    "print(f'Best set of hyperparameters: {best_parameters_lr}')"
   ]
  },
  {
   "cell_type": "code",
   "execution_count": 637,
   "id": "b70424ac",
   "metadata": {},
   "outputs": [],
   "source": [
    "celebrities_ML_copy = celebrities_ML.copy()\n",
    "\n",
    "knn_imputer = KNNImputer(n_neighbors=Best_Number_of_Neighbors_lr_tuned)\n",
    "celebrities_ML_copy[celebrities_ML_copy.columns] = knn_imputer.fit_transform(celebrities_ML_copy)\n",
    "\n",
    "columns_to_standardize = [col for col in celebrities_ML_copy.columns if col != 'Divorced']\n",
    "scaler = StandardScaler()\n",
    "celebrities_ML_copy[columns_to_standardize] = scaler.fit_transform(celebrities_ML_copy[columns_to_standardize])\n",
    "\n",
    "X = celebrities_ML_copy.drop(columns= 'Divorced')\n",
    "y = celebrities_ML_copy['Divorced']\n",
    "\n",
    "X_train, X_test, y_train, y_test = train_test_split(X, y, test_size=0.2, shuffle=True, random_state=101)\n",
    "\n",
    "lr_tuned = LogisticRegression(**best_parameters_lr, random_state=104)\n",
    "lr_tuned.fit(X_train, y_train)\n",
    "y_pred_train = lr_tuned.predict(X_train) \n",
    "y_pred_test = lr_tuned.predict(X_test)\n",
    "\n",
    "Training_Accuracy_lr_tuned = accuracy_score(y_train, y_pred_train)*100\n",
    "Testing_Accuracy_lr_tuned = accuracy_score(y_test, y_pred_test)*100"
   ]
  },
  {
   "cell_type": "code",
   "execution_count": 660,
   "id": "f410b105",
   "metadata": {},
   "outputs": [],
   "source": [
    "Models_results.loc[0, 'Tuned Training Accuracy (%)'] = Training_Accuracy_lr_tuned\n",
    "Models_results.loc[0, 'Tuned Testing Accuracy (%)'] = Testing_Accuracy_lr_tuned\n",
    "Models_results.loc[0, 'Tuned Number of Neighbors (Imputer)'] = int(Best_Number_of_Neighbors_lr_tuned)"
   ]
  },
  {
   "cell_type": "code",
   "execution_count": 661,
   "id": "18520568",
   "metadata": {},
   "outputs": [
    {
     "data": {
      "text/html": [
       "<div>\n",
       "<style scoped>\n",
       "    .dataframe tbody tr th:only-of-type {\n",
       "        vertical-align: middle;\n",
       "    }\n",
       "\n",
       "    .dataframe tbody tr th {\n",
       "        vertical-align: top;\n",
       "    }\n",
       "\n",
       "    .dataframe thead th {\n",
       "        text-align: right;\n",
       "    }\n",
       "</style>\n",
       "<table border=\"1\" class=\"dataframe\">\n",
       "  <thead>\n",
       "    <tr style=\"text-align: right;\">\n",
       "      <th></th>\n",
       "      <th>Model</th>\n",
       "      <th>Training Accuracy (%)</th>\n",
       "      <th>Testing Accuracy (%)</th>\n",
       "      <th>Number of Neighbors (Imputer)</th>\n",
       "      <th>Tuned Training Accuracy (%)</th>\n",
       "      <th>Tuned Testing Accuracy (%)</th>\n",
       "      <th>Tuned Number of Neighbors (Imputer)</th>\n",
       "    </tr>\n",
       "  </thead>\n",
       "  <tbody>\n",
       "    <tr>\n",
       "      <th>0</th>\n",
       "      <td>Logistic Regression</td>\n",
       "      <td>82.341980</td>\n",
       "      <td>80.799046</td>\n",
       "      <td>26</td>\n",
       "      <td>82.327072</td>\n",
       "      <td>80.500894</td>\n",
       "      <td>24.0</td>\n",
       "    </tr>\n",
       "    <tr>\n",
       "      <th>1</th>\n",
       "      <td>K Nearest Neighbors</td>\n",
       "      <td>82.349434</td>\n",
       "      <td>81.365534</td>\n",
       "      <td>29</td>\n",
       "      <td>NaN</td>\n",
       "      <td>NaN</td>\n",
       "      <td>NaN</td>\n",
       "    </tr>\n",
       "    <tr>\n",
       "      <th>2</th>\n",
       "      <td>Support Vector Machine</td>\n",
       "      <td>90.608229</td>\n",
       "      <td>90.011926</td>\n",
       "      <td>33</td>\n",
       "      <td>NaN</td>\n",
       "      <td>NaN</td>\n",
       "      <td>NaN</td>\n",
       "    </tr>\n",
       "    <tr>\n",
       "      <th>3</th>\n",
       "      <td>Decision Tree</td>\n",
       "      <td>92.180978</td>\n",
       "      <td>92.307692</td>\n",
       "      <td>44</td>\n",
       "      <td>NaN</td>\n",
       "      <td>NaN</td>\n",
       "      <td>NaN</td>\n",
       "    </tr>\n",
       "    <tr>\n",
       "      <th>4</th>\n",
       "      <td>Random Forest</td>\n",
       "      <td>96.101670</td>\n",
       "      <td>96.094216</td>\n",
       "      <td>40</td>\n",
       "      <td>NaN</td>\n",
       "      <td>NaN</td>\n",
       "      <td>NaN</td>\n",
       "    </tr>\n",
       "    <tr>\n",
       "      <th>5</th>\n",
       "      <td>XGBoost</td>\n",
       "      <td>94.514013</td>\n",
       "      <td>94.514013</td>\n",
       "      <td>68</td>\n",
       "      <td>NaN</td>\n",
       "      <td>NaN</td>\n",
       "      <td>NaN</td>\n",
       "    </tr>\n",
       "  </tbody>\n",
       "</table>\n",
       "</div>"
      ],
      "text/plain": [
       "                    Model  Training Accuracy (%)  Testing Accuracy (%)  \\\n",
       "0     Logistic Regression              82.341980             80.799046   \n",
       "1     K Nearest Neighbors              82.349434             81.365534   \n",
       "2  Support Vector Machine              90.608229             90.011926   \n",
       "3           Decision Tree              92.180978             92.307692   \n",
       "4           Random Forest              96.101670             96.094216   \n",
       "5                 XGBoost              94.514013             94.514013   \n",
       "\n",
       "   Number of Neighbors (Imputer)  Tuned Training Accuracy (%)  \\\n",
       "0                             26                    82.327072   \n",
       "1                             29                          NaN   \n",
       "2                             33                          NaN   \n",
       "3                             44                          NaN   \n",
       "4                             40                          NaN   \n",
       "5                             68                          NaN   \n",
       "\n",
       "   Tuned Testing Accuracy (%)  Tuned Number of Neighbors (Imputer)  \n",
       "0                   80.500894                                 24.0  \n",
       "1                         NaN                                  NaN  \n",
       "2                         NaN                                  NaN  \n",
       "3                         NaN                                  NaN  \n",
       "4                         NaN                                  NaN  \n",
       "5                         NaN                                  NaN  "
      ]
     },
     "execution_count": 661,
     "metadata": {},
     "output_type": "execute_result"
    }
   ],
   "source": [
    "Models_results"
   ]
  },
  {
   "cell_type": "markdown",
   "id": "0b23808e",
   "metadata": {},
   "source": [
    "# 8) K-Nearest Neighbors Hyperparameter Tuning"
   ]
  },
  {
   "cell_type": "code",
   "execution_count": 364,
   "id": "7f3a0503",
   "metadata": {},
   "outputs": [
    {
     "name": "stdout",
     "output_type": "stream",
     "text": [
      "4601.579907178879\n"
     ]
    }
   ],
   "source": [
    "start = time.time()\n",
    "\n",
    "accuracy_average_knn_tuned = []\n",
    "best_k_tuned = []\n",
    "\n",
    "for m in range(5, 50):\n",
    "    \n",
    "    celebrities_ML_copy = celebrities_ML.copy()\n",
    "\n",
    "    knn_imputer = KNNImputer(n_neighbors=m)\n",
    "    celebrities_ML_copy[celebrities_ML_copy.columns] = knn_imputer.fit_transform(celebrities_ML_copy)\n",
    "    \n",
    "    columns_to_standardize = [col for col in celebrities_ML_copy.columns if col != 'Divorced']\n",
    "    scaler = StandardScaler()\n",
    "    celebrities_ML_copy[columns_to_standardize] = scaler.fit_transform(celebrities_ML_copy[columns_to_standardize])\n",
    "    \n",
    "    X = celebrities_ML_copy.drop(columns= 'Divorced')\n",
    "    y = celebrities_ML_copy['Divorced']\n",
    "\n",
    "    X_train, X_test, y_train, y_test = train_test_split(X, y, test_size=0.2, shuffle=True, random_state=101)\n",
    "    \n",
    "    n_splits = 5\n",
    "    kfold = KFold(n_splits = n_splits, shuffle = True, random_state = 222)\n",
    "\n",
    "    best_score = 0\n",
    "    best_k = None\n",
    "        \n",
    "    for k in range(5, 50):\n",
    "        \n",
    "        accuracy_average = 0\n",
    "        \n",
    "        for train_idx, val_idx in kfold.split(X_train):\n",
    "\n",
    "            X_train_train, X_val = X.iloc[train_idx], X.iloc[val_idx]\n",
    "            y_train_train, y_val = y.iloc[train_idx], y.iloc[val_idx]\n",
    "\n",
    "            knn_tuned = KNeighborsClassifier(n_neighbors= k)\n",
    "            knn_tuned.fit(X_train_train, y_train_train)\n",
    "\n",
    "            y_pred = knn_tuned.predict(X_val)\n",
    "            accuracy_average += accuracy_score(y_val, y_pred)/n_splits\n",
    "        \n",
    "        score = accuracy_average\n",
    "\n",
    "        if score>best_score:\n",
    "            best_score = score\n",
    "            best_k = k\n",
    "            \n",
    "    accuracy_average_knn_tuned.append(best_score)\n",
    "    best_k_tuned.append(best_k)\n",
    "\n",
    "end = time.time()\n",
    "elapsed_time = end-start\n",
    "print(elapsed_time)"
   ]
  },
  {
   "cell_type": "code",
   "execution_count": 624,
   "id": "18771ca4",
   "metadata": {},
   "outputs": [
    {
     "data": {
      "text/plain": [
       "Text(0, 0.5, 'Accuracy')"
      ]
     },
     "execution_count": 624,
     "metadata": {},
     "output_type": "execute_result"
    },
    {
     "data": {
      "image/png": "[encoded data removed]",
      "text/plain": [
       "<Figure size 720x432 with 1 Axes>"
      ]
     },
     "metadata": {
      "needs_background": "light"
     },
     "output_type": "display_data"
    }
   ],
   "source": [
    "plt.figure(figsize=(10, 6))\n",
    "plt.plot([k for k in range(5, 50)], accuracy_average_knn_tuned, color = 'red')\n",
    "plt.xlabel('Number of Neighbors', fontsize = 14)\n",
    "plt.ylabel('Accuracy', fontsize = 14)"
   ]
  },
  {
   "cell_type": "code",
   "execution_count": 432,
   "id": "5c97cb50",
   "metadata": {},
   "outputs": [
    {
     "name": "stdout",
     "output_type": "stream",
     "text": [
      "Highest accuracy for Logistic Regression (hyperparameters tuned): 0.8795459128041936\n",
      "Best number of neighbors for imputer: 35\n",
      "Best number of neighbors for KNN: 11\n"
     ]
    }
   ],
   "source": [
    "Highest_accuracy_knn_tuned = max(accuracy_average_knn_tuned)\n",
    "Best_Number_of_Neighbors_knn_tuned = 5 + np.argmax(accuracy_average_knn_tuned)\n",
    "Best_parameters_knn = best_k_tuned[np.argmax(accuracy_average_knn_tuned)]\n",
    "print(f'Highest accuracy for Logistic Regression (hyperparameters tuned): {Highest_accuracy_knn_tuned}')\n",
    "print(f'Best number of neighbors for imputer: {Best_Number_of_Neighbors_knn_tuned}')\n",
    "print(f'Best number of neighbors for KNN: {Best_parameters_knn}')"
   ]
  },
  {
   "cell_type": "code",
   "execution_count": 374,
   "id": "da965a12",
   "metadata": {},
   "outputs": [],
   "source": [
    "celebrities_ML_copy = celebrities_ML.copy()\n",
    "\n",
    "knn_imputer = KNNImputer(n_neighbors=Best_Number_of_Neighbors_knn_tuned)\n",
    "celebrities_ML_copy[celebrities_ML_copy.columns] = knn_imputer.fit_transform(celebrities_ML_copy)\n",
    "\n",
    "columns_to_standardize = [col for col in celebrities_ML_copy.columns if col != 'Divorced']\n",
    "scaler = StandardScaler()\n",
    "celebrities_ML_copy[columns_to_standardize] = scaler.fit_transform(celebrities_ML_copy[columns_to_standardize])\n",
    "\n",
    "X = celebrities_ML_copy.drop(columns= 'Divorced')\n",
    "y = celebrities_ML_copy['Divorced']\n",
    "\n",
    "X_train, X_test, y_train, y_test = train_test_split(X, y, test_size=0.2, shuffle=True, random_state=101)\n",
    "\n",
    "knn_tuned = KNeighborsClassifier(n_neighbors = Best_parameters_knn)\n",
    "knn_tuned.fit(X_train, y_train)\n",
    "y_pred_train = knn_tuned.predict(X_train) \n",
    "y_pred_test = lr_tuned.predict(X_test)\n",
    "\n",
    "Training_Accuracy_knn_tuned = accuracy_score(y_train, y_pred_train)*100\n",
    "Testing_Accuracy_knn_tuned = accuracy_score(y_test, y_pred_test)*100"
   ]
  },
  {
   "cell_type": "code",
   "execution_count": 662,
   "id": "449669b1",
   "metadata": {},
   "outputs": [],
   "source": [
    "Models_results.loc[1, 'Tuned Training Accuracy (%)'] = Training_Accuracy_knn_tuned\n",
    "Models_results.loc[1, 'Tuned Testing Accuracy (%)'] = Testing_Accuracy_knn_tuned\n",
    "Models_results.loc[1, 'Tuned Number of Neighbors (Imputer)'] = int(Best_Number_of_Neighbors_knn_tuned)"
   ]
  },
  {
   "cell_type": "code",
   "execution_count": 663,
   "id": "7878ec9c",
   "metadata": {},
   "outputs": [
    {
     "data": {
      "text/html": [
       "<div>\n",
       "<style scoped>\n",
       "    .dataframe tbody tr th:only-of-type {\n",
       "        vertical-align: middle;\n",
       "    }\n",
       "\n",
       "    .dataframe tbody tr th {\n",
       "        vertical-align: top;\n",
       "    }\n",
       "\n",
       "    .dataframe thead th {\n",
       "        text-align: right;\n",
       "    }\n",
       "</style>\n",
       "<table border=\"1\" class=\"dataframe\">\n",
       "  <thead>\n",
       "    <tr style=\"text-align: right;\">\n",
       "      <th></th>\n",
       "      <th>Model</th>\n",
       "      <th>Training Accuracy (%)</th>\n",
       "      <th>Testing Accuracy (%)</th>\n",
       "      <th>Number of Neighbors (Imputer)</th>\n",
       "      <th>Tuned Training Accuracy (%)</th>\n",
       "      <th>Tuned Testing Accuracy (%)</th>\n",
       "      <th>Tuned Number of Neighbors (Imputer)</th>\n",
       "    </tr>\n",
       "  </thead>\n",
       "  <tbody>\n",
       "    <tr>\n",
       "      <th>0</th>\n",
       "      <td>Logistic Regression</td>\n",
       "      <td>82.341980</td>\n",
       "      <td>80.799046</td>\n",
       "      <td>26</td>\n",
       "      <td>82.327072</td>\n",
       "      <td>80.500894</td>\n",
       "      <td>24.0</td>\n",
       "    </tr>\n",
       "    <tr>\n",
       "      <th>1</th>\n",
       "      <td>K Nearest Neighbors</td>\n",
       "      <td>82.349434</td>\n",
       "      <td>81.365534</td>\n",
       "      <td>29</td>\n",
       "      <td>89.974657</td>\n",
       "      <td>80.023852</td>\n",
       "      <td>35.0</td>\n",
       "    </tr>\n",
       "    <tr>\n",
       "      <th>2</th>\n",
       "      <td>Support Vector Machine</td>\n",
       "      <td>90.608229</td>\n",
       "      <td>90.011926</td>\n",
       "      <td>33</td>\n",
       "      <td>NaN</td>\n",
       "      <td>NaN</td>\n",
       "      <td>NaN</td>\n",
       "    </tr>\n",
       "    <tr>\n",
       "      <th>3</th>\n",
       "      <td>Decision Tree</td>\n",
       "      <td>92.180978</td>\n",
       "      <td>92.307692</td>\n",
       "      <td>44</td>\n",
       "      <td>NaN</td>\n",
       "      <td>NaN</td>\n",
       "      <td>NaN</td>\n",
       "    </tr>\n",
       "    <tr>\n",
       "      <th>4</th>\n",
       "      <td>Random Forest</td>\n",
       "      <td>96.101670</td>\n",
       "      <td>96.094216</td>\n",
       "      <td>40</td>\n",
       "      <td>NaN</td>\n",
       "      <td>NaN</td>\n",
       "      <td>NaN</td>\n",
       "    </tr>\n",
       "    <tr>\n",
       "      <th>5</th>\n",
       "      <td>XGBoost</td>\n",
       "      <td>94.514013</td>\n",
       "      <td>94.514013</td>\n",
       "      <td>68</td>\n",
       "      <td>NaN</td>\n",
       "      <td>NaN</td>\n",
       "      <td>NaN</td>\n",
       "    </tr>\n",
       "  </tbody>\n",
       "</table>\n",
       "</div>"
      ],
      "text/plain": [
       "                    Model  Training Accuracy (%)  Testing Accuracy (%)  \\\n",
       "0     Logistic Regression              82.341980             80.799046   \n",
       "1     K Nearest Neighbors              82.349434             81.365534   \n",
       "2  Support Vector Machine              90.608229             90.011926   \n",
       "3           Decision Tree              92.180978             92.307692   \n",
       "4           Random Forest              96.101670             96.094216   \n",
       "5                 XGBoost              94.514013             94.514013   \n",
       "\n",
       "   Number of Neighbors (Imputer)  Tuned Training Accuracy (%)  \\\n",
       "0                             26                    82.327072   \n",
       "1                             29                    89.974657   \n",
       "2                             33                          NaN   \n",
       "3                             44                          NaN   \n",
       "4                             40                          NaN   \n",
       "5                             68                          NaN   \n",
       "\n",
       "   Tuned Testing Accuracy (%)  Tuned Number of Neighbors (Imputer)  \n",
       "0                   80.500894                                 24.0  \n",
       "1                   80.023852                                 35.0  \n",
       "2                         NaN                                  NaN  \n",
       "3                         NaN                                  NaN  \n",
       "4                         NaN                                  NaN  \n",
       "5                         NaN                                  NaN  "
      ]
     },
     "execution_count": 663,
     "metadata": {},
     "output_type": "execute_result"
    }
   ],
   "source": [
    "Models_results"
   ]
  },
  {
   "cell_type": "markdown",
   "id": "fc593a4a",
   "metadata": {},
   "source": [
    "# 9) Support Vector Machine Hyperparameters Tuning"
   ]
  },
  {
   "cell_type": "code",
   "execution_count": null,
   "id": "b526c4ed",
   "metadata": {},
   "outputs": [],
   "source": [
    "start = time.time()\n",
    "\n",
    "best_accuracy_svm = []\n",
    "best_parameters_svm = []\n",
    "\n",
    "svm = SVC(kernel='rbf', gamma=0.1, C=1.0)\n",
    "\n",
    "params = {\"C\":(0.1, 1, 10), \n",
    "          \"gamma\":(0.001, 0.01, 0.1, 1), \n",
    "          \"kernel\":('linear', 'poly', 'rbf')}               \n",
    "\n",
    "for k in range(5, 6):\n",
    "    \n",
    "    celebrities_ML_copy = celebrities_ML.copy()\n",
    "\n",
    "    knn_imputer = KNNImputer(n_neighbors=k)\n",
    "    celebrities_ML_copy[celebrities_ML_copy.columns] = knn_imputer.fit_transform(celebrities_ML_copy)\n",
    "    \n",
    "    columns_to_standardize = [col for col in celebrities_ML_copy.columns if col != 'Divorced']\n",
    "    scaler = StandardScaler()\n",
    "    celebrities_ML_copy[columns_to_standardize] = scaler.fit_transform(celebrities_ML_copy[columns_to_standardize])\n",
    "    \n",
    "    X = celebrities_ML_copy.drop(columns= 'Divorced')\n",
    "    y = celebrities_ML_copy['Divorced']\n",
    "\n",
    "    X_train, X_test, y_train, y_test = train_test_split(X, y, test_size=0.2, shuffle=True, random_state=101)\n",
    "    \n",
    "    svm_cv = GridSearchCV(svm, params, scoring=\"accuracy\", n_jobs=-1, verbose=1, cv=5)\n",
    "    svm_cv.fit(X_train, y_train)\n",
    "    \n",
    "    best_accuracy_svm.append(svm_cv.best_score_)\n",
    "    best_parameters_svm.append(svm_cv.best_params_)\n",
    "\n",
    "end = time.time()\n",
    "elapsed_time = end-start\n",
    "print(elapsed_time)\n",
    "\n"
   ]
  },
  {
   "cell_type": "code",
   "execution_count": null,
   "id": "0d39e38e",
   "metadata": {},
   "outputs": [],
   "source": [
    "plt.figure(figsize=(10, 6))\n",
    "plt.plot([k for k in range(5, 50)], best_accuracy_svm, color = 'red')\n",
    "plt.xlabel('Number of Neighbors', fontsize = 14)\n",
    "plt.ylabel('Accuracy', fontsize = 14)"
   ]
  },
  {
   "cell_type": "code",
   "execution_count": null,
   "id": "c12d112a",
   "metadata": {},
   "outputs": [],
   "source": [
    "Highest_accuracy_svm_tuned = max(best_accuracy_svm)\n",
    "Best_Number_of_Neighbors_svm_tuned = 5 + np.argmax(best_accuracy_svm)\n",
    "Best_Parameters_svm = best_parameters_svm[np.argmax(best_accuracy_svm)]\n",
    "print(f'Highest accuracy for Support Vector machine (hyperparameters tuned): {Highest_accuracy_svm_tuned}')\n",
    "print(f'Best number of neighbors for imputer: {Best_Number_of_Neighbors_svm_tuned}')\n",
    "print(f'Best set of hyperparameters: {Best_Parameters_svm}')"
   ]
  },
  {
   "cell_type": "code",
   "execution_count": null,
   "id": "491bf419",
   "metadata": {},
   "outputs": [],
   "source": [
    "celebrities_ML_copy = celebrities_ML.copy()\n",
    "\n",
    "knn_imputer = KNNImputer(n_neighbors=Best_Number_of_Neighbors_knn_tuned)\n",
    "celebrities_ML_copy[celebrities_ML_copy.columns] = knn_imputer.fit_transform(celebrities_ML_copy)\n",
    "\n",
    "columns_to_standardize = [col for col in celebrities_ML_copy.columns if col != 'Divorced']\n",
    "scaler = StandardScaler()\n",
    "celebrities_ML_copy[columns_to_standardize] = scaler.fit_transform(celebrities_ML_copy[columns_to_standardize])\n",
    "\n",
    "X = celebrities_ML_copy.drop(columns= 'Divorced')\n",
    "y = celebrities_ML_copy['Divorced']\n",
    "\n",
    "X_train, X_test, y_train, y_test = train_test_split(X, y, test_size=0.2, shuffle=True, random_state=101)\n",
    "\n",
    "svm_tuned = SVC(**best)\n",
    "svm_tuned.fit(X_train, y_train)\n",
    "y_pred_train = svm_tuned.predict(X_train) \n",
    "y_pred_test = svm_tuned.predict(X_test)\n",
    "\n",
    "Training_Accuracy_svm_tuned = accuracy_score(y_train, y_pred_train)*100\n",
    "Testing_Accuracy_svm_tuned = accuracy_score(y_test, y_pred_test)*100"
   ]
  },
  {
   "cell_type": "code",
   "execution_count": null,
   "id": "d24e1fd9",
   "metadata": {},
   "outputs": [],
   "source": [
    "Models_results.loc[1, 'Tuned Training Accuracy (%)'] = Training_Accuracy_svm_tuned\n",
    "Models_results.loc[1, 'Tuned Testing Accuracy (%)'] = Testing_Accuracy_svm_tuned\n",
    "Models_results.loc[1, 'Tuned Number of Neighbors (Imputer)'] = int(Best_Number_of_Neighbors_svm_tuned)"
   ]
  },
  {
   "cell_type": "markdown",
   "id": "d254f39e",
   "metadata": {},
   "source": [
    "I found that computationally is expansive to run the code for hyperparameter tuning code in case of support vector machine algorithm. So skip this part. "
   ]
  },
  {
   "cell_type": "markdown",
   "id": "baa89694",
   "metadata": {},
   "source": [
    "# 10) Decision Tree Hyperparameter Tuning"
   ]
  },
  {
   "cell_type": "code",
   "execution_count": 426,
   "id": "aac38f1d",
   "metadata": {},
   "outputs": [
    {
     "name": "stdout",
     "output_type": "stream",
     "text": [
      "Fitting 5 folds for each of 4332 candidates, totalling 21660 fits\n",
      "Fitting 5 folds for each of 4332 candidates, totalling 21660 fits\n",
      "Fitting 5 folds for each of 4332 candidates, totalling 21660 fits\n",
      "Fitting 5 folds for each of 4332 candidates, totalling 21660 fits\n",
      "Fitting 5 folds for each of 4332 candidates, totalling 21660 fits\n",
      "Fitting 5 folds for each of 4332 candidates, totalling 21660 fits\n",
      "Fitting 5 folds for each of 4332 candidates, totalling 21660 fits\n",
      "Fitting 5 folds for each of 4332 candidates, totalling 21660 fits\n",
      "Fitting 5 folds for each of 4332 candidates, totalling 21660 fits\n",
      "Fitting 5 folds for each of 4332 candidates, totalling 21660 fits\n",
      "Fitting 5 folds for each of 4332 candidates, totalling 21660 fits\n",
      "Fitting 5 folds for each of 4332 candidates, totalling 21660 fits\n",
      "Fitting 5 folds for each of 4332 candidates, totalling 21660 fits\n",
      "Fitting 5 folds for each of 4332 candidates, totalling 21660 fits\n",
      "Fitting 5 folds for each of 4332 candidates, totalling 21660 fits\n",
      "Fitting 5 folds for each of 4332 candidates, totalling 21660 fits\n",
      "Fitting 5 folds for each of 4332 candidates, totalling 21660 fits\n",
      "Fitting 5 folds for each of 4332 candidates, totalling 21660 fits\n",
      "Fitting 5 folds for each of 4332 candidates, totalling 21660 fits\n",
      "Fitting 5 folds for each of 4332 candidates, totalling 21660 fits\n",
      "Fitting 5 folds for each of 4332 candidates, totalling 21660 fits\n",
      "Fitting 5 folds for each of 4332 candidates, totalling 21660 fits\n",
      "Fitting 5 folds for each of 4332 candidates, totalling 21660 fits\n",
      "Fitting 5 folds for each of 4332 candidates, totalling 21660 fits\n",
      "Fitting 5 folds for each of 4332 candidates, totalling 21660 fits\n",
      "Fitting 5 folds for each of 4332 candidates, totalling 21660 fits\n",
      "Fitting 5 folds for each of 4332 candidates, totalling 21660 fits\n",
      "Fitting 5 folds for each of 4332 candidates, totalling 21660 fits\n",
      "Fitting 5 folds for each of 4332 candidates, totalling 21660 fits\n",
      "Fitting 5 folds for each of 4332 candidates, totalling 21660 fits\n",
      "Fitting 5 folds for each of 4332 candidates, totalling 21660 fits\n",
      "Fitting 5 folds for each of 4332 candidates, totalling 21660 fits\n",
      "Fitting 5 folds for each of 4332 candidates, totalling 21660 fits\n",
      "Fitting 5 folds for each of 4332 candidates, totalling 21660 fits\n",
      "Fitting 5 folds for each of 4332 candidates, totalling 21660 fits\n",
      "Fitting 5 folds for each of 4332 candidates, totalling 21660 fits\n",
      "Fitting 5 folds for each of 4332 candidates, totalling 21660 fits\n",
      "Fitting 5 folds for each of 4332 candidates, totalling 21660 fits\n",
      "Fitting 5 folds for each of 4332 candidates, totalling 21660 fits\n",
      "Fitting 5 folds for each of 4332 candidates, totalling 21660 fits\n",
      "Fitting 5 folds for each of 4332 candidates, totalling 21660 fits\n",
      "Fitting 5 folds for each of 4332 candidates, totalling 21660 fits\n",
      "Fitting 5 folds for each of 4332 candidates, totalling 21660 fits\n",
      "Fitting 5 folds for each of 4332 candidates, totalling 21660 fits\n",
      "Fitting 5 folds for each of 4332 candidates, totalling 21660 fits\n",
      "3998.740074157715\n"
     ]
    }
   ],
   "source": [
    "start = time.time()\n",
    "\n",
    "best_accuracy_tree = []\n",
    "best_parameters_tree = []\n",
    "\n",
    "tree = DecisionTreeClassifier(random_state=406)\n",
    "\n",
    "params = {\"criterion\":(\"gini\", \"entropy\"), \n",
    "          \"splitter\":(\"best\", \"random\"), \n",
    "          \"max_depth\":(list(range(1, 20))), \n",
    "          \"min_samples_split\":[2, 3, 4], \n",
    "          \"min_samples_leaf\":list(range(1, 20))\n",
    "          }\n",
    "\n",
    "for k in range(5, 50):\n",
    "    \n",
    "    celebrities_ML_copy = celebrities_ML.copy()\n",
    "\n",
    "    knn_imputer = KNNImputer(n_neighbors=k)\n",
    "    celebrities_ML_copy[celebrities_ML_copy.columns] = knn_imputer.fit_transform(celebrities_ML_copy)\n",
    "    \n",
    "    columns_to_standardize = [col for col in celebrities_ML_copy.columns if col != 'Divorced']\n",
    "    scaler = StandardScaler()\n",
    "    celebrities_ML_copy[columns_to_standardize] = scaler.fit_transform(celebrities_ML_copy[columns_to_standardize])\n",
    "    \n",
    "    X = celebrities_ML_copy.drop(columns= 'Divorced')\n",
    "    y = celebrities_ML_copy['Divorced']\n",
    "\n",
    "    X_train, X_test, y_train, y_test = train_test_split(X, y, test_size=0.2, shuffle=True, random_state=101)\n",
    "    \n",
    "    tree_cv = GridSearchCV(tree, params, scoring=\"accuracy\", n_jobs=-1, verbose=1, cv=5)\n",
    "    tree_cv.fit(X_train, y_train)\n",
    "    best_params = tree_cv.best_params_\n",
    "\n",
    "    best_accuracy_tree.append(tree_cv.best_score_)\n",
    "    best_parameters_tree.append(tree_cv.best_params_)\n",
    "\n",
    "end = time.time()\n",
    "elapsed_time = end-start\n",
    "print(elapsed_time)"
   ]
  },
  {
   "cell_type": "code",
   "execution_count": 429,
   "id": "34e6c1ca",
   "metadata": {},
   "outputs": [
    {
     "data": {
      "text/plain": [
       "Text(0, 0.5, 'Accuracy')"
      ]
     },
     "execution_count": 429,
     "metadata": {},
     "output_type": "execute_result"
    },
    {
     "data": {
      "image/png": "[encoded data removed]",
      "text/plain": [
       "<Figure size 720x432 with 1 Axes>"
      ]
     },
     "metadata": {
      "needs_background": "light"
     },
     "output_type": "display_data"
    }
   ],
   "source": [
    "plt.figure(figsize=(10, 6))\n",
    "plt.plot([k for k in range(5, 50)], best_accuracy_tree, color = 'red')\n",
    "plt.xlabel('Number of Neighbors', fontsize = 14)\n",
    "plt.ylabel('Accuracy', fontsize = 14)"
   ]
  },
  {
   "cell_type": "code",
   "execution_count": 430,
   "id": "322a7e15",
   "metadata": {},
   "outputs": [
    {
     "name": "stdout",
     "output_type": "stream",
     "text": [
      "Highest accuracy for Decision Tree (hyperparameters tuned): 0.8890129828866744\n",
      "Best number of neighbors for imputer: 49\n",
      "Best set of hyperparameters: {'criterion': 'gini', 'max_depth': 8, 'min_samples_leaf': 4, 'min_samples_split': 2, 'splitter': 'best'}\n"
     ]
    }
   ],
   "source": [
    "Highest_accuracy_tree_tuned = max(best_accuracy_tree)\n",
    "Best_Number_of_Neighbors_tree_tuned = 5 + np.argmax(best_accuracy_tree)\n",
    "best_parameters_tree = best_parameters_tree[np.argmax(best_accuracy_tree)]\n",
    "print(f'Highest accuracy for Decision Tree (hyperparameters tuned): {Highest_accuracy_tree_tuned}')\n",
    "print(f'Best number of neighbors for imputer: {Best_Number_of_Neighbors_tree_tuned}')\n",
    "print(f'Best set of hyperparameters: {best_parameters_tree}')"
   ]
  },
  {
   "cell_type": "code",
   "execution_count": 441,
   "id": "b5538606",
   "metadata": {},
   "outputs": [],
   "source": [
    "celebrities_ML_copy = celebrities_ML.copy()\n",
    "\n",
    "knn_imputer = KNNImputer(n_neighbors=Best_Number_of_Neighbors_tree_tuned)\n",
    "celebrities_ML_copy[celebrities_ML_copy.columns] = knn_imputer.fit_transform(celebrities_ML_copy)\n",
    "\n",
    "columns_to_standardize = [col for col in celebrities_ML_copy.columns if col != 'Divorced']\n",
    "scaler = StandardScaler()\n",
    "celebrities_ML_copy[columns_to_standardize] = scaler.fit_transform(celebrities_ML_copy[columns_to_standardize])\n",
    "\n",
    "X = celebrities_ML_copy.drop(columns= 'Divorced')\n",
    "y = celebrities_ML_copy['Divorced']\n",
    "\n",
    "X_train, X_test, y_train, y_test = train_test_split(X, y, test_size=0.2, shuffle=True, random_state=101)\n",
    "\n",
    "tree_tuned = DecisionTreeClassifier(**best_parameters_tree, random_state = 406 )\n",
    "tree_tuned.fit(X_train, y_train)\n",
    "y_pred_train = tree_tuned.predict(X_train) \n",
    "y_pred_test = tree_tuned.predict(X_test)\n",
    "\n",
    "Training_Accuracy_tree_tuned = accuracy_score(y_train, y_pred_train)*100\n",
    "Testing_Accuracy_tree_tuned = accuracy_score(y_test, y_pred_test)*100"
   ]
  },
  {
   "cell_type": "code",
   "execution_count": 664,
   "id": "e68fdfe9",
   "metadata": {},
   "outputs": [],
   "source": [
    "Models_results.loc[3, 'Tuned Training Accuracy (%)'] = Training_Accuracy_tree_tuned\n",
    "Models_results.loc[3, 'Tuned Testing Accuracy (%)'] = Testing_Accuracy_tree_tuned\n",
    "Models_results.loc[3, 'Tuned Number of Neighbors (Imputer)'] = int(Best_Number_of_Neighbors_tree_tuned)"
   ]
  },
  {
   "cell_type": "code",
   "execution_count": 665,
   "id": "a2b7a852",
   "metadata": {},
   "outputs": [
    {
     "data": {
      "text/html": [
       "<div>\n",
       "<style scoped>\n",
       "    .dataframe tbody tr th:only-of-type {\n",
       "        vertical-align: middle;\n",
       "    }\n",
       "\n",
       "    .dataframe tbody tr th {\n",
       "        vertical-align: top;\n",
       "    }\n",
       "\n",
       "    .dataframe thead th {\n",
       "        text-align: right;\n",
       "    }\n",
       "</style>\n",
       "<table border=\"1\" class=\"dataframe\">\n",
       "  <thead>\n",
       "    <tr style=\"text-align: right;\">\n",
       "      <th></th>\n",
       "      <th>Model</th>\n",
       "      <th>Training Accuracy (%)</th>\n",
       "      <th>Testing Accuracy (%)</th>\n",
       "      <th>Number of Neighbors (Imputer)</th>\n",
       "      <th>Tuned Training Accuracy (%)</th>\n",
       "      <th>Tuned Testing Accuracy (%)</th>\n",
       "      <th>Tuned Number of Neighbors (Imputer)</th>\n",
       "    </tr>\n",
       "  </thead>\n",
       "  <tbody>\n",
       "    <tr>\n",
       "      <th>0</th>\n",
       "      <td>Logistic Regression</td>\n",
       "      <td>82.341980</td>\n",
       "      <td>80.799046</td>\n",
       "      <td>26</td>\n",
       "      <td>82.327072</td>\n",
       "      <td>80.500894</td>\n",
       "      <td>24.0</td>\n",
       "    </tr>\n",
       "    <tr>\n",
       "      <th>1</th>\n",
       "      <td>K Nearest Neighbors</td>\n",
       "      <td>82.349434</td>\n",
       "      <td>81.365534</td>\n",
       "      <td>29</td>\n",
       "      <td>89.974657</td>\n",
       "      <td>80.023852</td>\n",
       "      <td>35.0</td>\n",
       "    </tr>\n",
       "    <tr>\n",
       "      <th>2</th>\n",
       "      <td>Support Vector Machine</td>\n",
       "      <td>90.608229</td>\n",
       "      <td>90.011926</td>\n",
       "      <td>33</td>\n",
       "      <td>NaN</td>\n",
       "      <td>NaN</td>\n",
       "      <td>NaN</td>\n",
       "    </tr>\n",
       "    <tr>\n",
       "      <th>3</th>\n",
       "      <td>Decision Tree</td>\n",
       "      <td>92.180978</td>\n",
       "      <td>92.307692</td>\n",
       "      <td>44</td>\n",
       "      <td>91.703936</td>\n",
       "      <td>88.073942</td>\n",
       "      <td>49.0</td>\n",
       "    </tr>\n",
       "    <tr>\n",
       "      <th>4</th>\n",
       "      <td>Random Forest</td>\n",
       "      <td>96.101670</td>\n",
       "      <td>96.094216</td>\n",
       "      <td>40</td>\n",
       "      <td>NaN</td>\n",
       "      <td>NaN</td>\n",
       "      <td>NaN</td>\n",
       "    </tr>\n",
       "    <tr>\n",
       "      <th>5</th>\n",
       "      <td>XGBoost</td>\n",
       "      <td>94.514013</td>\n",
       "      <td>94.514013</td>\n",
       "      <td>68</td>\n",
       "      <td>NaN</td>\n",
       "      <td>NaN</td>\n",
       "      <td>NaN</td>\n",
       "    </tr>\n",
       "  </tbody>\n",
       "</table>\n",
       "</div>"
      ],
      "text/plain": [
       "                    Model  Training Accuracy (%)  Testing Accuracy (%)  \\\n",
       "0     Logistic Regression              82.341980             80.799046   \n",
       "1     K Nearest Neighbors              82.349434             81.365534   \n",
       "2  Support Vector Machine              90.608229             90.011926   \n",
       "3           Decision Tree              92.180978             92.307692   \n",
       "4           Random Forest              96.101670             96.094216   \n",
       "5                 XGBoost              94.514013             94.514013   \n",
       "\n",
       "   Number of Neighbors (Imputer)  Tuned Training Accuracy (%)  \\\n",
       "0                             26                    82.327072   \n",
       "1                             29                    89.974657   \n",
       "2                             33                          NaN   \n",
       "3                             44                    91.703936   \n",
       "4                             40                          NaN   \n",
       "5                             68                          NaN   \n",
       "\n",
       "   Tuned Testing Accuracy (%)  Tuned Number of Neighbors (Imputer)  \n",
       "0                   80.500894                                 24.0  \n",
       "1                   80.023852                                 35.0  \n",
       "2                         NaN                                  NaN  \n",
       "3                   88.073942                                 49.0  \n",
       "4                         NaN                                  NaN  \n",
       "5                         NaN                                  NaN  "
      ]
     },
     "execution_count": 665,
     "metadata": {},
     "output_type": "execute_result"
    }
   ],
   "source": [
    "Models_results"
   ]
  },
  {
   "cell_type": "markdown",
   "id": "c08fc282",
   "metadata": {},
   "source": [
    "# 11) Random Forest Hyperparameter Tuning"
   ]
  },
  {
   "cell_type": "code",
   "execution_count": null,
   "id": "168473b4",
   "metadata": {},
   "outputs": [],
   "source": [
    "start = time.time()\n",
    "\n",
    "best_accuracy_forest = []\n",
    "best_parameters_forest = []\n",
    "\n",
    "rf = RandomForestClassifier(random_state=42)\n",
    "\n",
    "n_estimators = [500, 900, 1100, 1500]\n",
    "max_features = ['log2', 'sqrt']\n",
    "max_depth = [2, 3, 5, 10, 15, None]\n",
    "min_samples_split = [2, 5, 10]\n",
    "min_samples_leaf = [1, 2, 4]\n",
    "\n",
    "params_grid = {\n",
    "    'n_estimators': n_estimators, \n",
    "    'max_features': max_features,\n",
    "    'max_depth': max_depth, \n",
    "    'min_samples_split': min_samples_split,\n",
    "    'min_samples_leaf': min_samples_leaf}\n",
    "\n",
    "for k in range(40, 41):\n",
    "    \n",
    "    celebrities_ML_copy = celebrities_ML.copy()\n",
    "\n",
    "    knn_imputer = KNNImputer(n_neighbors=k)\n",
    "    celebrities_ML_copy[celebrities_ML_copy.columns] = knn_imputer.fit_transform(celebrities_ML_copy)\n",
    "    \n",
    "    columns_to_standardize = [col for col in celebrities_ML_copy.columns if col != 'Divorced']\n",
    "    scaler = StandardScaler()\n",
    "    celebrities_ML_copy[columns_to_standardize] = scaler.fit_transform(celebrities_ML_copy[columns_to_standardize])\n",
    "    \n",
    "    X = celebrities_ML_copy.drop(columns= 'Divorced')\n",
    "    y = celebrities_ML_copy['Divorced']\n",
    "\n",
    "    X_train, X_test, y_train, y_test = train_test_split(X, y, test_size=0.2, shuffle=True, random_state=101)\n",
    "    \n",
    "    rf_cv = GridSearchCV(rf, params_grid, scoring=\"accuracy\", cv=5, verbose=1, n_jobs=-1)\n",
    "    rf_cv.fit(X_train, y_train)\n",
    "    \n",
    "    best_accuracy_forest.append(tree_cv.best_score_)\n",
    "    best_parameters_forest.append(tree_cv.best_params_)\n",
    "\n",
    "end = time.time()\n",
    "elapsed_time = end-start\n",
    "print(elapsed_time)"
   ]
  },
  {
   "cell_type": "markdown",
   "id": "3408ef60",
   "metadata": {},
   "source": [
    "I run the code on HPC for k = (5, 50) and here are the results:"
   ]
  },
  {
   "cell_type": "code",
   "execution_count": 491,
   "id": "6ba744ad",
   "metadata": {},
   "outputs": [],
   "source": [
    "best_accuracy_forest = np.loadtxt('best_accuracy_forest.txt')\n",
    "\n",
    "with open('/Users/meysammotaharfar/Documents/Data Science/Python/Web Scraping/Notebooks/best_parameters_forest.txt', 'r') as file:\n",
    "    best_parameters_forest = []\n",
    "    for line in file:\n",
    "        params_dict = eval(line.strip())\n",
    "        best_parameters_forest.append(params_dict)"
   ]
  },
  {
   "cell_type": "code",
   "execution_count": 494,
   "id": "a316c625",
   "metadata": {},
   "outputs": [
    {
     "data": {
      "text/plain": [
       "Text(0, 0.5, 'Accuracy')"
      ]
     },
     "execution_count": 494,
     "metadata": {},
     "output_type": "execute_result"
    },
    {
     "data": {
      "image/png": "[encoded data removed]",
      "text/plain": [
       "<Figure size 720x432 with 1 Axes>"
      ]
     },
     "metadata": {
      "needs_background": "light"
     },
     "output_type": "display_data"
    }
   ],
   "source": [
    "plt.figure(figsize=(10, 6))\n",
    "plt.plot([k for k in range(5, 50)], best_accuracy_forest, color = 'red')\n",
    "plt.xlabel('Number of Neighbors', fontsize = 14)\n",
    "plt.ylabel('Accuracy', fontsize = 14)"
   ]
  },
  {
   "cell_type": "code",
   "execution_count": 495,
   "id": "663e8d3e",
   "metadata": {},
   "outputs": [
    {
     "name": "stdout",
     "output_type": "stream",
     "text": [
      "Highest accuracy for Random Forest (hyperparameters tuned): 0.9095111462411953\n",
      "Best number of neighbors for imputer: 46\n",
      "Best set of hyperparameters: {'max_depth': 15, 'max_features': 'log2', 'min_samples_leaf': 1, 'min_samples_split': 2, 'n_estimators': 900}\n"
     ]
    }
   ],
   "source": [
    "Highest_accuracy_forest_tuned = max(best_accuracy_forest)\n",
    "Best_Number_of_Neighbors_forest_tuned = 5 + np.argmax(best_accuracy_forest)\n",
    "best_parameters_forest = best_parameters_forest[np.argmax(best_accuracy_forest)]\n",
    "print(f'Highest accuracy for Random Forest (hyperparameters tuned): {Highest_accuracy_forest_tuned}')\n",
    "print(f'Best number of neighbors for imputer: {Best_Number_of_Neighbors_forest_tuned}')\n",
    "print(f'Best set of hyperparameters: {best_parameters_forest}')"
   ]
  },
  {
   "cell_type": "code",
   "execution_count": 496,
   "id": "09869c9d",
   "metadata": {},
   "outputs": [],
   "source": [
    "celebrities_ML_copy = celebrities_ML.copy()\n",
    "\n",
    "knn_imputer = KNNImputer(n_neighbors=Best_Number_of_Neighbors_forest_tuned)\n",
    "celebrities_ML_copy[celebrities_ML_copy.columns] = knn_imputer.fit_transform(celebrities_ML_copy)\n",
    "\n",
    "columns_to_standardize = [col for col in celebrities_ML_copy.columns if col != 'Divorced']\n",
    "scaler = StandardScaler()\n",
    "celebrities_ML_copy[columns_to_standardize] = scaler.fit_transform(celebrities_ML_copy[columns_to_standardize])\n",
    "\n",
    "X = celebrities_ML_copy.drop(columns= 'Divorced')\n",
    "y = celebrities_ML_copy['Divorced']\n",
    "\n",
    "X_train, X_test, y_train, y_test = train_test_split(X, y, test_size=0.2, shuffle=True, random_state=101)\n",
    "\n",
    "rf_tuned = RandomForestClassifier(**best_parameters_forest, random_state=42)\n",
    "rf_tuned.fit(X_train, y_train)\n",
    "y_pred_train = rf_tuned.predict(X_train) \n",
    "y_pred_test = rf_tuned.predict(X_test)\n",
    "\n",
    "Training_Accuracy_rf_tuned = accuracy_score(y_train, y_pred_train)*100\n",
    "Testing_Accuracy_rf_tuned = accuracy_score(y_test, y_pred_test)*100"
   ]
  },
  {
   "cell_type": "code",
   "execution_count": 666,
   "id": "1dc1bd62",
   "metadata": {},
   "outputs": [],
   "source": [
    "Models_results.loc[4, 'Tuned Training Accuracy (%)'] = Training_Accuracy_rf_tuned\n",
    "Models_results.loc[4, 'Tuned Testing Accuracy (%)'] = Testing_Accuracy_rf_tuned\n",
    "Models_results.loc[4, 'Tuned Number of Neighbors (Imputer)'] = int(Best_Number_of_Neighbors_forest_tuned)"
   ]
  },
  {
   "cell_type": "code",
   "execution_count": 667,
   "id": "131753b8",
   "metadata": {},
   "outputs": [
    {
     "data": {
      "text/html": [
       "<div>\n",
       "<style scoped>\n",
       "    .dataframe tbody tr th:only-of-type {\n",
       "        vertical-align: middle;\n",
       "    }\n",
       "\n",
       "    .dataframe tbody tr th {\n",
       "        vertical-align: top;\n",
       "    }\n",
       "\n",
       "    .dataframe thead th {\n",
       "        text-align: right;\n",
       "    }\n",
       "</style>\n",
       "<table border=\"1\" class=\"dataframe\">\n",
       "  <thead>\n",
       "    <tr style=\"text-align: right;\">\n",
       "      <th></th>\n",
       "      <th>Model</th>\n",
       "      <th>Training Accuracy (%)</th>\n",
       "      <th>Testing Accuracy (%)</th>\n",
       "      <th>Number of Neighbors (Imputer)</th>\n",
       "      <th>Tuned Training Accuracy (%)</th>\n",
       "      <th>Tuned Testing Accuracy (%)</th>\n",
       "      <th>Tuned Number of Neighbors (Imputer)</th>\n",
       "    </tr>\n",
       "  </thead>\n",
       "  <tbody>\n",
       "    <tr>\n",
       "      <th>0</th>\n",
       "      <td>Logistic Regression</td>\n",
       "      <td>82.341980</td>\n",
       "      <td>80.799046</td>\n",
       "      <td>26</td>\n",
       "      <td>82.327072</td>\n",
       "      <td>80.500894</td>\n",
       "      <td>24.0</td>\n",
       "    </tr>\n",
       "    <tr>\n",
       "      <th>1</th>\n",
       "      <td>K Nearest Neighbors</td>\n",
       "      <td>82.349434</td>\n",
       "      <td>81.365534</td>\n",
       "      <td>29</td>\n",
       "      <td>89.974657</td>\n",
       "      <td>80.023852</td>\n",
       "      <td>35.0</td>\n",
       "    </tr>\n",
       "    <tr>\n",
       "      <th>2</th>\n",
       "      <td>Support Vector Machine</td>\n",
       "      <td>90.608229</td>\n",
       "      <td>90.011926</td>\n",
       "      <td>33</td>\n",
       "      <td>NaN</td>\n",
       "      <td>NaN</td>\n",
       "      <td>NaN</td>\n",
       "    </tr>\n",
       "    <tr>\n",
       "      <th>3</th>\n",
       "      <td>Decision Tree</td>\n",
       "      <td>92.180978</td>\n",
       "      <td>92.307692</td>\n",
       "      <td>44</td>\n",
       "      <td>91.703936</td>\n",
       "      <td>88.073942</td>\n",
       "      <td>49.0</td>\n",
       "    </tr>\n",
       "    <tr>\n",
       "      <th>4</th>\n",
       "      <td>Random Forest</td>\n",
       "      <td>96.101670</td>\n",
       "      <td>96.094216</td>\n",
       "      <td>40</td>\n",
       "      <td>99.992546</td>\n",
       "      <td>90.369708</td>\n",
       "      <td>46.0</td>\n",
       "    </tr>\n",
       "    <tr>\n",
       "      <th>5</th>\n",
       "      <td>XGBoost</td>\n",
       "      <td>94.514013</td>\n",
       "      <td>94.514013</td>\n",
       "      <td>68</td>\n",
       "      <td>NaN</td>\n",
       "      <td>NaN</td>\n",
       "      <td>NaN</td>\n",
       "    </tr>\n",
       "  </tbody>\n",
       "</table>\n",
       "</div>"
      ],
      "text/plain": [
       "                    Model  Training Accuracy (%)  Testing Accuracy (%)  \\\n",
       "0     Logistic Regression              82.341980             80.799046   \n",
       "1     K Nearest Neighbors              82.349434             81.365534   \n",
       "2  Support Vector Machine              90.608229             90.011926   \n",
       "3           Decision Tree              92.180978             92.307692   \n",
       "4           Random Forest              96.101670             96.094216   \n",
       "5                 XGBoost              94.514013             94.514013   \n",
       "\n",
       "   Number of Neighbors (Imputer)  Tuned Training Accuracy (%)  \\\n",
       "0                             26                    82.327072   \n",
       "1                             29                    89.974657   \n",
       "2                             33                          NaN   \n",
       "3                             44                    91.703936   \n",
       "4                             40                    99.992546   \n",
       "5                             68                          NaN   \n",
       "\n",
       "   Tuned Testing Accuracy (%)  Tuned Number of Neighbors (Imputer)  \n",
       "0                   80.500894                                 24.0  \n",
       "1                   80.023852                                 35.0  \n",
       "2                         NaN                                  NaN  \n",
       "3                   88.073942                                 49.0  \n",
       "4                   90.369708                                 46.0  \n",
       "5                         NaN                                  NaN  "
      ]
     },
     "execution_count": 667,
     "metadata": {},
     "output_type": "execute_result"
    }
   ],
   "source": [
    "Models_results"
   ]
  },
  {
   "cell_type": "markdown",
   "id": "139d0ed7",
   "metadata": {},
   "source": [
    "# 12) XGBoost Hyperparameter Tuning"
   ]
  },
  {
   "cell_type": "code",
   "execution_count": null,
   "id": "fd997bad",
   "metadata": {},
   "outputs": [],
   "source": [
    "import warnings\n",
    "\n",
    "# Ignore FutureWarnings\n",
    "warnings.filterwarnings(\"ignore\", category=FutureWarning) \n",
    "\n",
    "start = time.time()\n",
    "\n",
    "best_accuracy_xgb = []\n",
    "best_parameters_xgb = []\n",
    "\n",
    "xgb = XGBClassifier(use_label_encoder=False, random_state = 101)\n",
    "\n",
    "param_grid = dict(\n",
    "    n_estimators=stats.randint(10, 1000),\n",
    "    max_depth=stats.randint(1, 10),\n",
    "    learning_rate=stats.uniform(0, 1)\n",
    ")\n",
    "\n",
    "for k in range(5, 6):\n",
    "    \n",
    "    celebrities_ML_copy = celebrities_ML.copy()\n",
    "\n",
    "    knn_imputer = KNNImputer(n_neighbors=k)\n",
    "    celebrities_ML_copy[celebrities_ML_copy.columns] = knn_imputer.fit_transform(celebrities_ML_copy)\n",
    "    \n",
    "    columns_to_standardize = [col for col in celebrities_ML_copy.columns if col != 'Divorced']\n",
    "    scaler = StandardScaler()\n",
    "    celebrities_ML_copy[columns_to_standardize] = scaler.fit_transform(celebrities_ML_copy[columns_to_standardize])\n",
    "    \n",
    "    X = celebrities_ML_copy.drop(columns= 'Divorced')\n",
    "    y = celebrities_ML_copy['Divorced']\n",
    "\n",
    "    X_train, X_test, y_train, y_test = train_test_split(X, y, test_size=0.2, shuffle=True, random_state=101)\n",
    "    \n",
    "    xgb_cv = RandomizedSearchCV(xgb, param_grid, cv=5, n_iter=150, scoring='accuracy', n_jobs=-1, verbose=1)\n",
    "    xgb_cv.fit(X_train, y_train)\n",
    "    \n",
    "    best_accuracy_xgb.append(xgb_cv.best_score_)\n",
    "    best_parameters_xgb.append(xgb_cv.best_params_)\n",
    "\n",
    "end = time.time()\n",
    "elapsed_time = end-start\n",
    "print(elapsed_time)"
   ]
  },
  {
   "cell_type": "markdown",
   "id": "21c80c37",
   "metadata": {},
   "source": [
    "I run the code on HPC for k= (5, 50) and here are the results:"
   ]
  },
  {
   "cell_type": "code",
   "execution_count": 509,
   "id": "d369545b",
   "metadata": {},
   "outputs": [],
   "source": [
    "best_accuracy_xgb = np.loadtxt('best_accuracy_xgb.txt')\n",
    "\n",
    "with open('/Users/meysammotaharfar/Documents/Data Science/Python/Web Scraping/Notebooks/best_parameters_xgb.txt', 'r') as file:\n",
    "    best_parameters_xgb = []\n",
    "    for line in file:\n",
    "        params_dict = eval(line.strip())\n",
    "        best_parameters_xgb.append(params_dict)"
   ]
  },
  {
   "cell_type": "code",
   "execution_count": 503,
   "id": "edbf4b52",
   "metadata": {},
   "outputs": [
    {
     "data": {
      "text/plain": [
       "Text(0, 0.5, 'Accuracy')"
      ]
     },
     "execution_count": 503,
     "metadata": {},
     "output_type": "execute_result"
    },
    {
     "data": {
      "image/png": "[encoded data removed]",
      "text/plain": [
       "<Figure size 720x432 with 1 Axes>"
      ]
     },
     "metadata": {
      "needs_background": "light"
     },
     "output_type": "display_data"
    }
   ],
   "source": [
    "plt.figure(figsize=(10, 6))\n",
    "plt.plot([k for k in range(5, 70)], best_accuracy_xgb, color = 'red')\n",
    "plt.xlabel('Number of Neighbors', fontsize = 14)\n",
    "plt.ylabel('Accuracy', fontsize = 14)"
   ]
  },
  {
   "cell_type": "code",
   "execution_count": 511,
   "id": "bb2ec9f8",
   "metadata": {},
   "outputs": [
    {
     "name": "stdout",
     "output_type": "stream",
     "text": [
      "Highest accuracy for XGBoost Classifier (hyperparameters tuned): 0.9211390312576897\n",
      "Best number of neighbors for imputer: 62\n",
      "Best set of hyperparameters: {'learning_rate': 0.1134189403446001, 'max_depth': 8, 'n_estimators': 591}\n"
     ]
    }
   ],
   "source": [
    "Highest_accuracy_xgb_tuned = max(best_accuracy_xgb)\n",
    "Best_Number_of_Neighbors_xgb_tuned = 5 + np.argmax(best_accuracy_xgb)\n",
    "best_parameters_xgb = best_parameters_xgb[np.argmax(best_accuracy_xgb)]\n",
    "print(f'Highest accuracy for XGBoost Classifier (hyperparameters tuned): {Highest_accuracy_xgb_tuned}')\n",
    "print(f'Best number of neighbors for imputer: {Best_Number_of_Neighbors_xgb_tuned}')\n",
    "print(f'Best set of hyperparameters: {best_parameters_xgb}')"
   ]
  },
  {
   "cell_type": "code",
   "execution_count": 512,
   "id": "fb0c3ae4",
   "metadata": {},
   "outputs": [],
   "source": [
    "celebrities_ML_copy = celebrities_ML.copy()\n",
    "\n",
    "knn_imputer = KNNImputer(n_neighbors=Best_Number_of_Neighbors_xgb_tuned)\n",
    "celebrities_ML_copy[celebrities_ML_copy.columns] = knn_imputer.fit_transform(celebrities_ML_copy)\n",
    "\n",
    "columns_to_standardize = [col for col in celebrities_ML_copy.columns if col != 'Divorced']\n",
    "scaler = StandardScaler()\n",
    "celebrities_ML_copy[columns_to_standardize] = scaler.fit_transform(celebrities_ML_copy[columns_to_standardize])\n",
    "\n",
    "X = celebrities_ML_copy.drop(columns= 'Divorced')\n",
    "y = celebrities_ML_copy['Divorced']\n",
    "\n",
    "X_train, X_test, y_train, y_test = train_test_split(X, y, test_size=0.2, shuffle=True, random_state=101)\n",
    "\n",
    "xgb_tuned = XGBClassifier(**best_parameters_xgb, use_label_encoder=False)\n",
    "xgb_tuned.fit(X_train, y_train)\n",
    "y_pred_train = xgb_tuned.predict(X_train) \n",
    "y_pred_test = xgb_tuned.predict(X_test)\n",
    "\n",
    "Training_Accuracy_xgb_tuned = accuracy_score(y_train, y_pred_train)*100\n",
    "Testing_Accuracy_xgb_tuned = accuracy_score(y_test, y_pred_test)*100"
   ]
  },
  {
   "cell_type": "code",
   "execution_count": 668,
   "id": "3894336b",
   "metadata": {},
   "outputs": [],
   "source": [
    "Models_results.loc[5, 'Tuned Training Accuracy (%)'] = Training_Accuracy_xgb_tuned\n",
    "Models_results.loc[5, 'Tuned Testing Accuracy (%)'] = Testing_Accuracy_xgb_tuned\n",
    "Models_results.loc[5, 'Tuned Number of Neighbors (Imputer)'] = int(Best_Number_of_Neighbors_xgb_tuned)"
   ]
  },
  {
   "cell_type": "code",
   "execution_count": 669,
   "id": "46f81d95",
   "metadata": {},
   "outputs": [
    {
     "data": {
      "text/html": [
       "<div>\n",
       "<style scoped>\n",
       "    .dataframe tbody tr th:only-of-type {\n",
       "        vertical-align: middle;\n",
       "    }\n",
       "\n",
       "    .dataframe tbody tr th {\n",
       "        vertical-align: top;\n",
       "    }\n",
       "\n",
       "    .dataframe thead th {\n",
       "        text-align: right;\n",
       "    }\n",
       "</style>\n",
       "<table border=\"1\" class=\"dataframe\">\n",
       "  <thead>\n",
       "    <tr style=\"text-align: right;\">\n",
       "      <th></th>\n",
       "      <th>Model</th>\n",
       "      <th>Training Accuracy (%)</th>\n",
       "      <th>Testing Accuracy (%)</th>\n",
       "      <th>Number of Neighbors (Imputer)</th>\n",
       "      <th>Tuned Training Accuracy (%)</th>\n",
       "      <th>Tuned Testing Accuracy (%)</th>\n",
       "      <th>Tuned Number of Neighbors (Imputer)</th>\n",
       "    </tr>\n",
       "  </thead>\n",
       "  <tbody>\n",
       "    <tr>\n",
       "      <th>0</th>\n",
       "      <td>Logistic Regression</td>\n",
       "      <td>82.341980</td>\n",
       "      <td>80.799046</td>\n",
       "      <td>26</td>\n",
       "      <td>82.327072</td>\n",
       "      <td>80.500894</td>\n",
       "      <td>24.0</td>\n",
       "    </tr>\n",
       "    <tr>\n",
       "      <th>1</th>\n",
       "      <td>K Nearest Neighbors</td>\n",
       "      <td>82.349434</td>\n",
       "      <td>81.365534</td>\n",
       "      <td>29</td>\n",
       "      <td>89.974657</td>\n",
       "      <td>80.023852</td>\n",
       "      <td>35.0</td>\n",
       "    </tr>\n",
       "    <tr>\n",
       "      <th>2</th>\n",
       "      <td>Support Vector Machine</td>\n",
       "      <td>90.608229</td>\n",
       "      <td>90.011926</td>\n",
       "      <td>33</td>\n",
       "      <td>NaN</td>\n",
       "      <td>NaN</td>\n",
       "      <td>NaN</td>\n",
       "    </tr>\n",
       "    <tr>\n",
       "      <th>3</th>\n",
       "      <td>Decision Tree</td>\n",
       "      <td>92.180978</td>\n",
       "      <td>92.307692</td>\n",
       "      <td>44</td>\n",
       "      <td>91.703936</td>\n",
       "      <td>88.073942</td>\n",
       "      <td>49.0</td>\n",
       "    </tr>\n",
       "    <tr>\n",
       "      <th>4</th>\n",
       "      <td>Random Forest</td>\n",
       "      <td>96.101670</td>\n",
       "      <td>96.094216</td>\n",
       "      <td>40</td>\n",
       "      <td>99.992546</td>\n",
       "      <td>90.369708</td>\n",
       "      <td>46.0</td>\n",
       "    </tr>\n",
       "    <tr>\n",
       "      <th>5</th>\n",
       "      <td>XGBoost</td>\n",
       "      <td>94.514013</td>\n",
       "      <td>94.514013</td>\n",
       "      <td>68</td>\n",
       "      <td>100.000000</td>\n",
       "      <td>91.383423</td>\n",
       "      <td>62.0</td>\n",
       "    </tr>\n",
       "  </tbody>\n",
       "</table>\n",
       "</div>"
      ],
      "text/plain": [
       "                    Model  Training Accuracy (%)  Testing Accuracy (%)  \\\n",
       "0     Logistic Regression              82.341980             80.799046   \n",
       "1     K Nearest Neighbors              82.349434             81.365534   \n",
       "2  Support Vector Machine              90.608229             90.011926   \n",
       "3           Decision Tree              92.180978             92.307692   \n",
       "4           Random Forest              96.101670             96.094216   \n",
       "5                 XGBoost              94.514013             94.514013   \n",
       "\n",
       "   Number of Neighbors (Imputer)  Tuned Training Accuracy (%)  \\\n",
       "0                             26                    82.327072   \n",
       "1                             29                    89.974657   \n",
       "2                             33                          NaN   \n",
       "3                             44                    91.703936   \n",
       "4                             40                    99.992546   \n",
       "5                             68                   100.000000   \n",
       "\n",
       "   Tuned Testing Accuracy (%)  Tuned Number of Neighbors (Imputer)  \n",
       "0                   80.500894                                 24.0  \n",
       "1                   80.023852                                 35.0  \n",
       "2                         NaN                                  NaN  \n",
       "3                   88.073942                                 49.0  \n",
       "4                   90.369708                                 46.0  \n",
       "5                   91.383423                                 62.0  "
      ]
     },
     "execution_count": 669,
     "metadata": {},
     "output_type": "execute_result"
    }
   ],
   "source": [
    "Models_results"
   ]
  },
  {
   "cell_type": "markdown",
   "id": "7400211f",
   "metadata": {},
   "source": [
    "# Summary and Results"
   ]
  },
  {
   "cell_type": "markdown",
   "id": "54524f38",
   "metadata": {},
   "source": [
    "Here are the results:"
   ]
  },
  {
   "cell_type": "code",
   "execution_count": 671,
   "id": "13b305d4",
   "metadata": {},
   "outputs": [
    {
     "name": "stderr",
     "output_type": "stream",
     "text": [
      "/var/folders/hp/1wt3j78513jd47vndbbz15rr0000gn/T/ipykernel_53064/497811485.py:19: UserWarning: FixedFormatter should only be used together with FixedLocator\n",
      "  ax.set_xticklabels(ax.get_xticklabels(), fontsize=16)\n"
     ]
    },
    {
     "data": {
      "image/png": "[encoded data removed]",
      "text/plain": [
       "<Figure size 1800x936 with 1 Axes>"
      ]
     },
     "metadata": {
      "needs_background": "light"
     },
     "output_type": "display_data"
    }
   ],
   "source": [
    "melted_Models_results = pd.melt(\n",
    "    Models_results,\n",
    "    id_vars=[\"Model\"],\n",
    "    value_vars=[\n",
    "        \"Training Accuracy (%)\",\n",
    "        \"Testing Accuracy (%)\",\n",
    "        \"Tuned Training Accuracy (%)\",\n",
    "        \"Tuned Testing Accuracy (%)\",\n",
    "    ],\n",
    "    var_name=\"Accuracy Type\",\n",
    "    value_name=\"Accuracy Value\",\n",
    ")\n",
    "\n",
    "plt.rcParams['font.family'] = 'Arial'\n",
    "plt.figure(figsize=(25, 13))\n",
    "ax = sns.barplot(data = melted_Models_results, y = 'Model', x = 'Accuracy Value', hue= 'Accuracy Type', palette='Paired')\n",
    "ax.set_ylabel('Model', fontsize=22, labelpad=30)\n",
    "ax.set_xlabel('Accuracy (%)', fontsize=22)\n",
    "ax.set_xticklabels(ax.get_xticklabels(), fontsize=16)  \n",
    "ax.set_yticklabels(ax.get_yticklabels(), fontsize=16)\n",
    "ax.legend(fontsize = 14)\n",
    "ax.set_title('Results for predicting Divorce among celebrities', fontsize = 35, pad = 30)\n",
    "plt.savefig('divorce_prediction_results.png', dpi=300, bbox_inches='tight')"
   ]
  },
  {
   "cell_type": "code",
   "execution_count": null,
   "id": "ee423421",
   "metadata": {},
   "outputs": [],
   "source": []
  }
 ],
 "metadata": {
  "kernelspec": {
   "display_name": "Python 3 (ipykernel)",
   "language": "python",
   "name": "python3"
  },
  "language_info": {
   "codemirror_mode": {
    "name": "ipython",
    "version": 3
   },
   "file_extension": ".py",
   "mimetype": "text/x-python",
   "name": "python",
   "nbconvert_exporter": "python",
   "pygments_lexer": "ipython3",
   "version": "3.9.7"
  }
 },
 "nbformat": 4,
 "nbformat_minor": 5
}
